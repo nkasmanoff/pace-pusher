{
 "cells": [
  {
   "cell_type": "code",
   "execution_count": 10,
   "metadata": {},
   "outputs": [
    {
     "ename": "XMLSyntaxError",
     "evalue": "Start tag expected, '<' not found, line 1, column 1 (<string>, line 1)",
     "output_type": "error",
     "traceback": [
      "Traceback \u001b[0;36m(most recent call last)\u001b[0m:\n",
      "  File \u001b[1;32m\"/Users/noahkasmanoff/anaconda/lib/python3.6/site-packages/IPython/core/interactiveshell.py\"\u001b[0m, line \u001b[1;32m2961\u001b[0m, in \u001b[1;35mrun_code\u001b[0m\n    exec(code_obj, self.user_global_ns, self.user_ns)\n",
      "  File \u001b[1;32m\"<ipython-input-10-251fad500ef1>\"\u001b[0m, line \u001b[1;32m3\u001b[0m, in \u001b[1;35m<module>\u001b[0m\n    tree = etree.XML('8.03mi Run.tcx')\n",
      "  File \u001b[1;32m\"src/lxml/lxml.etree.pyx\"\u001b[0m, line \u001b[1;32m3192\u001b[0m, in \u001b[1;35mlxml.etree.XML (src/lxml/lxml.etree.c:78763)\u001b[0m\n",
      "  File \u001b[1;32m\"src/lxml/parser.pxi\"\u001b[0m, line \u001b[1;32m1848\u001b[0m, in \u001b[1;35mlxml.etree._parseMemoryDocument (src/lxml/lxml.etree.c:118341)\u001b[0m\n",
      "  File \u001b[1;32m\"src/lxml/parser.pxi\"\u001b[0m, line \u001b[1;32m1729\u001b[0m, in \u001b[1;35mlxml.etree._parseDoc (src/lxml/lxml.etree.c:116899)\u001b[0m\n",
      "  File \u001b[1;32m\"src/lxml/parser.pxi\"\u001b[0m, line \u001b[1;32m1063\u001b[0m, in \u001b[1;35mlxml.etree._BaseParser._parseUnicodeDoc (src/lxml/lxml.etree.c:110886)\u001b[0m\n",
      "  File \u001b[1;32m\"src/lxml/parser.pxi\"\u001b[0m, line \u001b[1;32m595\u001b[0m, in \u001b[1;35mlxml.etree._ParserContext._handleParseResultDoc (src/lxml/lxml.etree.c:105109)\u001b[0m\n",
      "  File \u001b[1;32m\"src/lxml/parser.pxi\"\u001b[0m, line \u001b[1;32m706\u001b[0m, in \u001b[1;35mlxml.etree._handleParseResult (src/lxml/lxml.etree.c:106817)\u001b[0m\n",
      "\u001b[0;36m  File \u001b[0;32m\"src/lxml/parser.pxi\"\u001b[0;36m, line \u001b[0;32m635\u001b[0;36m, in \u001b[0;35mlxml.etree._raiseParseError (src/lxml/lxml.etree.c:105671)\u001b[0;36m\u001b[0m\n",
      "\u001b[0;36m  File \u001b[0;32m\"<string>\"\u001b[0;36m, line \u001b[0;32m1\u001b[0m\n\u001b[0;31mXMLSyntaxError\u001b[0m\u001b[0;31m:\u001b[0m Start tag expected, '<' not found, line 1, column 1\n"
     ]
    }
   ],
   "source": [
    "from lxml import etree\n",
    "\n",
    "tree = etree.XML('8.03mi Run.tcx')\n",
    "tim3e = tree.xpath('Trackpoint/Time/text()')\n",
    "\n",
    "print(time)"
   ]
  },
  {
   "cell_type": "code",
   "execution_count": 11,
   "metadata": {},
   "outputs": [
    {
     "ename": "NameError",
     "evalue": "name 'tree' is not defined",
     "output_type": "error",
     "traceback": [
      "\u001b[0;31m---------------------------------------------------------------------------\u001b[0m",
      "\u001b[0;31mNameError\u001b[0m                                 Traceback (most recent call last)",
      "\u001b[0;32m<ipython-input-11-7a1e081e78d4>\u001b[0m in \u001b[0;36m<module>\u001b[0;34m()\u001b[0m\n\u001b[0;32m----> 1\u001b[0;31m \u001b[0mtree\u001b[0m\u001b[0;34m\u001b[0m\u001b[0m\n\u001b[0m",
      "\u001b[0;31mNameError\u001b[0m: name 'tree' is not defined"
     ]
    }
   ],
   "source": [
    "tree"
   ]
  },
  {
   "cell_type": "markdown",
   "metadata": {},
   "source": [
    "### "
   ]
  },
  {
   "cell_type": "code",
   "execution_count": 7,
   "metadata": {},
   "outputs": [
    {
     "name": "stdout",
     "output_type": "stream",
     "text": [
      "[]\n"
     ]
    }
   ],
   "source": [
    "import os, csv\n",
    "import lxml.etree as ET\n",
    "dom = ET.parse('8.03mi Run.tcx')\n",
    "\n",
    "# DEFINING COLUMNS\n",
    "columns = ['latitude', 'longitude', 'altitude', 'distance', 'watts']\n",
    "\n",
    "# OPEN CSV FILE\n",
    "with open('trackData.csv', 'w') as m:\n",
    "    writer = csv.writer(m)    \n",
    "    writer.writerow(columns)\n",
    "\n",
    "    nodexpath = dom.xpath('//Trackpoint')\n",
    "\n",
    "    dataline = []   # FOR ONE-ROW CSV APPENDS\n",
    "    datalines = []  # FOR FINAL OUTPUT \n",
    "    for j in range(1,len(nodexpath)+1):        \n",
    "        dataline = []\n",
    "\n",
    "        # LOCATE PATH OF EACH NODE VALUE\n",
    "        latitudexpath = dom.xpath('//Trackpoint[{0}]/Position/LatitudeDegrees/text()'.format(j))\n",
    "        dataline.append('') if latitudexpath == [] else dataline.append(latitudexpath[0])\n",
    "\n",
    "        longitudexpath = dom.xpath('//Trackpoint[{0}]/Position/LongitudeDegrees/text()'.format(j))\n",
    "        dataline.append('') if longitudexpath == [] else dataline.append(longitudexpath[0])\n",
    "\n",
    "        altitudexpath = dom.xpath('//Trackpoint[{0}]/AltitudeMeters/text()'.format(j))\n",
    "        dataline.append('') if altitudexpath == [] else dataline.append(altitudexpath[0])\n",
    "\n",
    "        distancexpath = dom.xpath('//Trackpoint[{0}]/DistanceMeters/text()'.format(j))\n",
    "        dataline.append('') if distancexpath == [] else dataline.append(distancexpath[0])\n",
    "\n",
    "        wattsxpath = dom.xpath(\"//Trackpoint[{0}]/*[name()='Extensions']/*[name()='TPX']/*[name()='Watts']/text()\".format(j))\n",
    "        dataline.append('') if wattsxpath == [] else dataline.append(wattsxpath[0])\n",
    "\n",
    "        datalines.append(dataline)\n",
    "        writer.writerow(dataline)\n",
    "\n",
    "print(datalines)"
   ]
  },
  {
   "cell_type": "code",
   "execution_count": 9,
   "metadata": {},
   "outputs": [
    {
     "data": {
      "text/plain": [
       "<lxml.etree._ElementTree at 0x108ac4708>"
      ]
     },
     "execution_count": 9,
     "metadata": {},
     "output_type": "execute_result"
    }
   ],
   "source": [
    "dom.d"
   ]
  },
  {
   "cell_type": "code",
   "execution_count": null,
   "metadata": {
    "collapsed": true
   },
   "outputs": [],
   "source": []
  }
 ],
 "metadata": {
  "kernelspec": {
   "display_name": "Python 3",
   "language": "python",
   "name": "python3"
  },
  "language_info": {
   "codemirror_mode": {
    "name": "ipython",
    "version": 3
   },
   "file_extension": ".py",
   "mimetype": "text/x-python",
   "name": "python",
   "nbconvert_exporter": "python",
   "pygments_lexer": "ipython3",
   "version": "3.6.1"
  }
 },
 "nbformat": 4,
 "nbformat_minor": 2
}
