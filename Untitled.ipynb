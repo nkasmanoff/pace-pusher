{
 "cells": [
  {
   "cell_type": "markdown",
   "metadata": {},
   "source": [
    "Done for now. Have obtained time series of distance and time elapsed. \n",
    "\n",
    "Next would be to get splits over certain distances. Pace, mile times, and spot check this and generalize. "
   ]
  },
  {
   "cell_type": "code",
   "execution_count": 65,
   "metadata": {},
   "outputs": [],
   "source": [
    "import xml.etree.ElementTree as ET\n",
    "tree = ET.parse('8.03mi Run.tcx')"
   ]
  },
  {
   "cell_type": "code",
   "execution_count": 66,
   "metadata": {},
   "outputs": [],
   "source": [
    "root = tree.getroot()\n"
   ]
  },
  {
   "cell_type": "code",
   "execution_count": 68,
   "metadata": {},
   "outputs": [
    {
     "data": {
      "text/plain": [
       "'{http://www.garmin.com/xmlschemas/TrainingCenterDatabase/v2}TrainingCenterDatabase'"
      ]
     },
     "execution_count": 68,
     "metadata": {},
     "output_type": "execute_result"
    }
   ],
   "source": [
    "root.tag"
   ]
  },
  {
   "cell_type": "code",
   "execution_count": 70,
   "metadata": {},
   "outputs": [
    {
     "name": "stdout",
     "output_type": "stream",
     "text": [
      "     {http://www.garmin.com/xmlschemas/TrainingCenterDatabase/v2}Activities\n"
     ]
    }
   ],
   "source": [
    "for child in root:\n",
    "    print('    ',child.tag)"
   ]
  },
  {
   "cell_type": "code",
   "execution_count": 73,
   "metadata": {},
   "outputs": [],
   "source": [
    "root[0][0].text"
   ]
  },
  {
   "cell_type": "code",
   "execution_count": 78,
   "metadata": {},
   "outputs": [],
   "source": [
    "activity = root.getchildren()[0]"
   ]
  },
  {
   "cell_type": "code",
   "execution_count": 132,
   "metadata": {},
   "outputs": [],
   "source": [
    "measures = activity.getchildren()[0].getchildren()[1].getchildren()[4].getchildren()[1:]"
   ]
  },
  {
   "cell_type": "code",
   "execution_count": 167,
   "metadata": {},
   "outputs": [
    {
     "data": {
      "text/plain": [
       "'2019-01-26T19:23:18.750127+00:00'"
      ]
     },
     "execution_count": 167,
     "metadata": {},
     "output_type": "execute_result"
    }
   ],
   "source": [
    "measures[1].getchildren()[0].text"
   ]
  },
  {
   "cell_type": "code",
   "execution_count": 141,
   "metadata": {},
   "outputs": [
    {
     "data": {
      "text/plain": [
       "'6.1581778526'"
      ]
     },
     "execution_count": 141,
     "metadata": {},
     "output_type": "execute_result"
    }
   ],
   "source": [
    "dis"
   ]
  },
  {
   "cell_type": "code",
   "execution_count": 168,
   "metadata": {},
   "outputs": [],
   "source": [
    "distances = []\n",
    "times = []\n",
    "for i,point in enumerate(measures):\n",
    "    if len(point.getchildren()) == 4:\n",
    "        dist = point.getchildren()[-1]\n",
    "        distances.append(float(dist.text))\n",
    "        times.append(point.getchildren()[0].text)"
   ]
  },
  {
   "cell_type": "code",
   "execution_count": 177,
   "metadata": {},
   "outputs": [
    {
     "ename": "ValueError",
     "evalue": "time data '2019-01-26T19:23:17.749315+00:00' does not match format '%b %d %Y %I:%M%p'",
     "output_type": "error",
     "traceback": [
      "\u001b[0;31m---------------------------------------------------------------------------\u001b[0m",
      "\u001b[0;31mValueError\u001b[0m                                Traceback (most recent call last)",
      "\u001b[0;32m<ipython-input-177-d7a8fc7aeef8>\u001b[0m in \u001b[0;36m<module>\u001b[0;34m()\u001b[0m\n\u001b[1;32m      1\u001b[0m \u001b[0;32mfrom\u001b[0m \u001b[0mdatetime\u001b[0m \u001b[0;32mimport\u001b[0m \u001b[0mdatetime\u001b[0m\u001b[0;34m\u001b[0m\u001b[0m\n\u001b[1;32m      2\u001b[0m \u001b[0;34m\u001b[0m\u001b[0m\n\u001b[0;32m----> 3\u001b[0;31m \u001b[0mdatetime_object\u001b[0m \u001b[0;34m=\u001b[0m \u001b[0mdatetime\u001b[0m\u001b[0;34m.\u001b[0m\u001b[0mstrptime\u001b[0m\u001b[0;34m(\u001b[0m\u001b[0mtimes\u001b[0m\u001b[0;34m[\u001b[0m\u001b[0;36m0\u001b[0m\u001b[0;34m]\u001b[0m\u001b[0;34m,\u001b[0m \u001b[0;34m'%b %d %Y %I:%M%p'\u001b[0m\u001b[0;34m)\u001b[0m\u001b[0;34m\u001b[0m\u001b[0m\n\u001b[0m",
      "\u001b[0;32m~/anaconda/lib/python3.6/_strptime.py\u001b[0m in \u001b[0;36m_strptime_datetime\u001b[0;34m(cls, data_string, format)\u001b[0m\n\u001b[1;32m    563\u001b[0m     \"\"\"Return a class cls instance based on the input string and the\n\u001b[1;32m    564\u001b[0m     format string.\"\"\"\n\u001b[0;32m--> 565\u001b[0;31m     \u001b[0mtt\u001b[0m\u001b[0;34m,\u001b[0m \u001b[0mfraction\u001b[0m \u001b[0;34m=\u001b[0m \u001b[0m_strptime\u001b[0m\u001b[0;34m(\u001b[0m\u001b[0mdata_string\u001b[0m\u001b[0;34m,\u001b[0m \u001b[0mformat\u001b[0m\u001b[0;34m)\u001b[0m\u001b[0;34m\u001b[0m\u001b[0m\n\u001b[0m\u001b[1;32m    566\u001b[0m     \u001b[0mtzname\u001b[0m\u001b[0;34m,\u001b[0m \u001b[0mgmtoff\u001b[0m \u001b[0;34m=\u001b[0m \u001b[0mtt\u001b[0m\u001b[0;34m[\u001b[0m\u001b[0;34m-\u001b[0m\u001b[0;36m2\u001b[0m\u001b[0;34m:\u001b[0m\u001b[0;34m]\u001b[0m\u001b[0;34m\u001b[0m\u001b[0m\n\u001b[1;32m    567\u001b[0m     \u001b[0margs\u001b[0m \u001b[0;34m=\u001b[0m \u001b[0mtt\u001b[0m\u001b[0;34m[\u001b[0m\u001b[0;34m:\u001b[0m\u001b[0;36m6\u001b[0m\u001b[0;34m]\u001b[0m \u001b[0;34m+\u001b[0m \u001b[0;34m(\u001b[0m\u001b[0mfraction\u001b[0m\u001b[0;34m,\u001b[0m\u001b[0;34m)\u001b[0m\u001b[0;34m\u001b[0m\u001b[0m\n",
      "\u001b[0;32m~/anaconda/lib/python3.6/_strptime.py\u001b[0m in \u001b[0;36m_strptime\u001b[0;34m(data_string, format)\u001b[0m\n\u001b[1;32m    360\u001b[0m     \u001b[0;32mif\u001b[0m \u001b[0;32mnot\u001b[0m \u001b[0mfound\u001b[0m\u001b[0;34m:\u001b[0m\u001b[0;34m\u001b[0m\u001b[0m\n\u001b[1;32m    361\u001b[0m         raise ValueError(\"time data %r does not match format %r\" %\n\u001b[0;32m--> 362\u001b[0;31m                          (data_string, format))\n\u001b[0m\u001b[1;32m    363\u001b[0m     \u001b[0;32mif\u001b[0m \u001b[0mlen\u001b[0m\u001b[0;34m(\u001b[0m\u001b[0mdata_string\u001b[0m\u001b[0;34m)\u001b[0m \u001b[0;34m!=\u001b[0m \u001b[0mfound\u001b[0m\u001b[0;34m.\u001b[0m\u001b[0mend\u001b[0m\u001b[0;34m(\u001b[0m\u001b[0;34m)\u001b[0m\u001b[0;34m:\u001b[0m\u001b[0;34m\u001b[0m\u001b[0m\n\u001b[1;32m    364\u001b[0m         raise ValueError(\"unconverted data remains: %s\" %\n",
      "\u001b[0;31mValueError\u001b[0m: time data '2019-01-26T19:23:17.749315+00:00' does not match format '%b %d %Y %I:%M%p'"
     ]
    }
   ],
   "source": [
    "from datetime import datetime\n",
    "\n",
    "datetime_object = datetime.strptime(times[0], '%b %d %Y %I:%M%p')"
   ]
  },
  {
   "cell_type": "code",
   "execution_count": 180,
   "metadata": {},
   "outputs": [
    {
     "data": {
      "text/plain": [
       "'2019-01-26T19:23:18.750127+00:00'"
      ]
     },
     "execution_count": 180,
     "metadata": {},
     "output_type": "execute_result"
    }
   ],
   "source": [
    "times[1]"
   ]
  },
  {
   "cell_type": "code",
   "execution_count": 160,
   "metadata": {},
   "outputs": [
    {
     "data": {
      "text/plain": [
       "[<matplotlib.lines.Line2D at 0x119798c88>]"
      ]
     },
     "execution_count": 160,
     "metadata": {},
     "output_type": "execute_result"
    },
    {
     "data": {
      "image/png": "[encoded data removed]",
      "text/plain": [
       "<matplotlib.figure.Figure at 0x1114f5828>"
      ]
     },
     "metadata": {},
     "output_type": "display_data"
    }
   ],
   "source": [
    "import matplotlib.pyplot as plt\n",
    "%matplotlib inline\n",
    "\n",
    "plt.plot(distances)"
   ]
  },
  {
   "cell_type": "code",
   "execution_count": 103,
   "metadata": {},
   "outputs": [],
   "source": [
    "trackpoints = activity.getchildren()[0].getchildren()[1].getchildren()[4].getchildren()"
   ]
  },
  {
   "cell_type": "code",
   "execution_count": 101,
   "metadata": {},
   "outputs": [
    {
     "ename": "IndexError",
     "evalue": "list index out of range",
     "output_type": "error",
     "traceback": [
      "\u001b[0;31m---------------------------------------------------------------------------\u001b[0m",
      "\u001b[0;31mIndexError\u001b[0m                                Traceback (most recent call last)",
      "\u001b[0;32m<ipython-input-101-a31e077f2eb5>\u001b[0m in \u001b[0;36m<module>\u001b[0;34m()\u001b[0m\n\u001b[0;32m----> 1\u001b[0;31m \u001b[0;32mfor\u001b[0m \u001b[0mchild\u001b[0m \u001b[0;32min\u001b[0m \u001b[0mtrackpoints\u001b[0m\u001b[0;34m[\u001b[0m\u001b[0;36m0\u001b[0m\u001b[0;34m]\u001b[0m\u001b[0;34m:\u001b[0m\u001b[0;34m\u001b[0m\u001b[0m\n\u001b[0m\u001b[1;32m      2\u001b[0m     \u001b[0mprint\u001b[0m\u001b[0;34m(\u001b[0m\u001b[0;34m'   '\u001b[0m\u001b[0;34m,\u001b[0m \u001b[0mchild\u001b[0m\u001b[0;34m.\u001b[0m\u001b[0mgetchildren\u001b[0m\u001b[0;34m(\u001b[0m\u001b[0;34m)\u001b[0m\u001b[0;34m)\u001b[0m\u001b[0;34m\u001b[0m\u001b[0m\n",
      "\u001b[0;31mIndexError\u001b[0m: list index out of range"
     ]
    }
   ],
   "source": [
    "for child in trackpoints[0]:\n",
    "    print('   ', child.getchildren())"
   ]
  },
  {
   "cell_type": "code",
   "execution_count": 109,
   "metadata": {},
   "outputs": [],
   "source": [
    "distance = trackpoints[0].getchildren()[1]"
   ]
  },
  {
   "cell_type": "code",
   "execution_count": 114,
   "metadata": {},
   "outputs": [
    {
     "data": {
      "text/plain": [
       "[<Element '{http://www.garmin.com/xmlschemas/TrainingCenterDatabase/v2}LatitudeDegrees' at 0x119307c78>,\n",
       " <Element '{http://www.garmin.com/xmlschemas/TrainingCenterDatabase/v2}LongitudeDegrees' at 0x119307cc8>]"
      ]
     },
     "execution_count": 114,
     "metadata": {},
     "output_type": "execute_result"
    }
   ],
   "source": [
    "distance.getchildren()"
   ]
  },
  {
   "cell_type": "code",
   "execution_count": 181,
   "metadata": {},
   "outputs": [
    {
     "data": {
      "text/plain": [
       "'2019-01-26T19:23:17.749315+00:00'"
      ]
     },
     "execution_count": 181,
     "metadata": {},
     "output_type": "execute_result"
    }
   ],
   "source": [
    "times[0]"
   ]
  },
  {
   "cell_type": "code",
   "execution_count": 196,
   "metadata": {
    "collapsed": true
   },
   "outputs": [],
   "source": [
    "import pandas as pd"
   ]
  },
  {
   "cell_type": "code",
   "execution_count": 231,
   "metadata": {},
   "outputs": [],
   "source": [
    "\n",
    "time_df = pd.DataFrame([])\n",
    "time_df['Time'] = times"
   ]
  },
  {
   "cell_type": "code",
   "execution_count": 232,
   "metadata": {},
   "outputs": [],
   "source": [
    "time_df['Time'] = time_df.Time.str.split('T',expand = True)[1]"
   ]
  },
  {
   "cell_type": "code",
   "execution_count": 233,
   "metadata": {},
   "outputs": [],
   "source": [
    "time_df['Time'] = time_df['Time'].str.split('+',expand=True)[0]"
   ]
  },
  {
   "cell_type": "code",
   "execution_count": 234,
   "metadata": {
    "collapsed": true
   },
   "outputs": [],
   "source": [
    "time_df = time_df['Time'].str.split(':',expand=True)"
   ]
  },
  {
   "cell_type": "code",
   "execution_count": 237,
   "metadata": {},
   "outputs": [],
   "source": [
    "time_df = time_df.astype('float')"
   ]
  },
  {
   "cell_type": "code",
   "execution_count": null,
   "metadata": {
    "collapsed": true
   },
   "outputs": [],
   "source": []
  },
  {
   "cell_type": "code",
   "execution_count": 239,
   "metadata": {},
   "outputs": [],
   "source": [
    "time_df['Time Elapsed'] = time_df[0]*3600 + time_df[1]*60 + time_df[2]"
   ]
  },
  {
   "cell_type": "code",
   "execution_count": 241,
   "metadata": {},
   "outputs": [],
   "source": [
    "time_df['Time Elapsed'] = time_df['Time Elapsed'] -time_df['Time Elapsed'].values[0]"
   ]
  },
  {
   "cell_type": "code",
   "execution_count": 242,
   "metadata": {},
   "outputs": [
    {
     "data": {
      "text/plain": [
       "0          0.000000\n",
       "1          1.000812\n",
       "2          2.000750\n",
       "3          3.000872\n",
       "4          4.000092\n",
       "5          5.000109\n",
       "6          6.000626\n",
       "7          7.077728\n",
       "8          8.004775\n",
       "9          9.003314\n",
       "10        10.004277\n",
       "11        11.004848\n",
       "12        12.004608\n",
       "13        13.004779\n",
       "14        14.004548\n",
       "15        15.002390\n",
       "16        16.004385\n",
       "17        17.004492\n",
       "18        18.004384\n",
       "19        19.013130\n",
       "20        20.004370\n",
       "21        21.001176\n",
       "22        22.004424\n",
       "23        23.004439\n",
       "24        24.001771\n",
       "25        25.004425\n",
       "26        26.004309\n",
       "27        27.004390\n",
       "28        28.004395\n",
       "29        29.003506\n",
       "           ...     \n",
       "3331    3428.682221\n",
       "3332    3429.682844\n",
       "3333    3430.684800\n",
       "3334    3431.696551\n",
       "3335    3432.682236\n",
       "3336    3433.682522\n",
       "3337    3434.682219\n",
       "3338    3435.681955\n",
       "3339    3436.682223\n",
       "3340    3437.712628\n",
       "3341    3438.704533\n",
       "3342    3439.682806\n",
       "3343    3440.704234\n",
       "3344    3441.706392\n",
       "3345    3442.717686\n",
       "3346    3443.683403\n",
       "3347    3444.704705\n",
       "3348    3445.704669\n",
       "3349    3446.704472\n",
       "3350    3447.643857\n",
       "3351    3448.704443\n",
       "3352    3449.707188\n",
       "3353    3450.697100\n",
       "3354    3452.613722\n",
       "3355    3453.613788\n",
       "3356    3454.614472\n",
       "3357    3455.613873\n",
       "3358    3456.613990\n",
       "3359    3457.989693\n",
       "3360    3461.633221\n",
       "Name: Time Elapsed, Length: 3361, dtype: float64"
      ]
     },
     "execution_count": 242,
     "metadata": {},
     "output_type": "execute_result"
    }
   ],
   "source": [
    "time_df['Time Elapsed']"
   ]
  },
  {
   "cell_type": "code",
   "execution_count": 244,
   "metadata": {},
   "outputs": [
    {
     "data": {
      "text/plain": [
       "3361"
      ]
     },
     "execution_count": 244,
     "metadata": {},
     "output_type": "execute_result"
    }
   ],
   "source": [
    "len(distances)"
   ]
  },
  {
   "cell_type": "code",
   "execution_count": 245,
   "metadata": {},
   "outputs": [
    {
     "data": {
      "text/plain": [
       "[<matplotlib.lines.Line2D at 0x11fece7b8>]"
      ]
     },
     "execution_count": 245,
     "metadata": {},
     "output_type": "execute_result"
    },
    {
     "data": {
      "image/png": "[encoded data removed]",
      "text/plain": [
       "<matplotlib.figure.Figure at 0x11fdec630>"
      ]
     },
     "metadata": {},
     "output_type": "display_data"
    }
   ],
   "source": [
    "plt.plot(time_df['Time Elapsed'].values,distances)"
   ]
  },
  {
   "cell_type": "code",
   "execution_count": 213,
   "metadata": {},
   "outputs": [
    {
     "ename": "ValueError",
     "evalue": "time data '19:23:17.749315' does not match format '%b %d %Y %I:%M%p'",
     "output_type": "error",
     "traceback": [
      "\u001b[0;31m---------------------------------------------------------------------------\u001b[0m",
      "\u001b[0;31mValueError\u001b[0m                                Traceback (most recent call last)",
      "\u001b[0;32m<ipython-input-213-5821a2673544>\u001b[0m in \u001b[0;36m<module>\u001b[0;34m()\u001b[0m\n\u001b[1;32m      1\u001b[0m \u001b[0;32mfrom\u001b[0m \u001b[0mdatetime\u001b[0m \u001b[0;32mimport\u001b[0m \u001b[0mdatetime\u001b[0m\u001b[0;34m\u001b[0m\u001b[0m\n\u001b[1;32m      2\u001b[0m \u001b[0;34m\u001b[0m\u001b[0m\n\u001b[0;32m----> 3\u001b[0;31m \u001b[0mdatetime_object\u001b[0m \u001b[0;34m=\u001b[0m \u001b[0mdatetime\u001b[0m\u001b[0;34m.\u001b[0m\u001b[0mstrptime\u001b[0m\u001b[0;34m(\u001b[0m\u001b[0mtime_df\u001b[0m\u001b[0;34m[\u001b[0m\u001b[0;34m'Time'\u001b[0m\u001b[0;34m]\u001b[0m\u001b[0;34m.\u001b[0m\u001b[0mvalues\u001b[0m\u001b[0;34m[\u001b[0m\u001b[0;36m0\u001b[0m\u001b[0;34m]\u001b[0m\u001b[0;34m,\u001b[0m \u001b[0;34m'%b %d %Y %I:%M%p'\u001b[0m\u001b[0;34m)\u001b[0m\u001b[0;34m\u001b[0m\u001b[0m\n\u001b[0m",
      "\u001b[0;32m~/anaconda/lib/python3.6/_strptime.py\u001b[0m in \u001b[0;36m_strptime_datetime\u001b[0;34m(cls, data_string, format)\u001b[0m\n\u001b[1;32m    563\u001b[0m     \"\"\"Return a class cls instance based on the input string and the\n\u001b[1;32m    564\u001b[0m     format string.\"\"\"\n\u001b[0;32m--> 565\u001b[0;31m     \u001b[0mtt\u001b[0m\u001b[0;34m,\u001b[0m \u001b[0mfraction\u001b[0m \u001b[0;34m=\u001b[0m \u001b[0m_strptime\u001b[0m\u001b[0;34m(\u001b[0m\u001b[0mdata_string\u001b[0m\u001b[0;34m,\u001b[0m \u001b[0mformat\u001b[0m\u001b[0;34m)\u001b[0m\u001b[0;34m\u001b[0m\u001b[0m\n\u001b[0m\u001b[1;32m    566\u001b[0m     \u001b[0mtzname\u001b[0m\u001b[0;34m,\u001b[0m \u001b[0mgmtoff\u001b[0m \u001b[0;34m=\u001b[0m \u001b[0mtt\u001b[0m\u001b[0;34m[\u001b[0m\u001b[0;34m-\u001b[0m\u001b[0;36m2\u001b[0m\u001b[0;34m:\u001b[0m\u001b[0;34m]\u001b[0m\u001b[0;34m\u001b[0m\u001b[0m\n\u001b[1;32m    567\u001b[0m     \u001b[0margs\u001b[0m \u001b[0;34m=\u001b[0m \u001b[0mtt\u001b[0m\u001b[0;34m[\u001b[0m\u001b[0;34m:\u001b[0m\u001b[0;36m6\u001b[0m\u001b[0;34m]\u001b[0m \u001b[0;34m+\u001b[0m \u001b[0;34m(\u001b[0m\u001b[0mfraction\u001b[0m\u001b[0;34m,\u001b[0m\u001b[0;34m)\u001b[0m\u001b[0;34m\u001b[0m\u001b[0m\n",
      "\u001b[0;32m~/anaconda/lib/python3.6/_strptime.py\u001b[0m in \u001b[0;36m_strptime\u001b[0;34m(data_string, format)\u001b[0m\n\u001b[1;32m    360\u001b[0m     \u001b[0;32mif\u001b[0m \u001b[0;32mnot\u001b[0m \u001b[0mfound\u001b[0m\u001b[0;34m:\u001b[0m\u001b[0;34m\u001b[0m\u001b[0m\n\u001b[1;32m    361\u001b[0m         raise ValueError(\"time data %r does not match format %r\" %\n\u001b[0;32m--> 362\u001b[0;31m                          (data_string, format))\n\u001b[0m\u001b[1;32m    363\u001b[0m     \u001b[0;32mif\u001b[0m \u001b[0mlen\u001b[0m\u001b[0;34m(\u001b[0m\u001b[0mdata_string\u001b[0m\u001b[0;34m)\u001b[0m \u001b[0;34m!=\u001b[0m \u001b[0mfound\u001b[0m\u001b[0;34m.\u001b[0m\u001b[0mend\u001b[0m\u001b[0;34m(\u001b[0m\u001b[0;34m)\u001b[0m\u001b[0;34m:\u001b[0m\u001b[0;34m\u001b[0m\u001b[0m\n\u001b[1;32m    364\u001b[0m         raise ValueError(\"unconverted data remains: %s\" %\n",
      "\u001b[0;31mValueError\u001b[0m: time data '19:23:17.749315' does not match format '%b %d %Y %I:%M%p'"
     ]
    }
   ],
   "source": [
    "from datetime import datetime\n",
    "\n",
    "datetime_object = datetime.strptime(time_df['Time'].values[0], '%b %d %Y %I:%M%p')"
   ]
  },
  {
   "cell_type": "code",
   "execution_count": 81,
   "metadata": {},
   "outputs": [
    {
     "name": "stdout",
     "output_type": "stream",
     "text": [
      "    {'Sport': 'Running'}\n"
     ]
    }
   ],
   "source": [
    "for child in activity:\n",
    "    print('   ',child.attrib)"
   ]
  },
  {
   "cell_type": "code",
   "execution_count": 16,
   "metadata": {
    "collapsed": true
   },
   "outputs": [],
   "source": [
    "import tcxparser\n",
    "tcx = tcxparser.TCXParser('8.03mi Run.tcx')"
   ]
  },
  {
   "cell_type": "code",
   "execution_count": null,
   "metadata": {
    "collapsed": true
   },
   "outputs": [],
   "source": [
    "txc"
   ]
  },
  {
   "cell_type": "code",
   "execution_count": 22,
   "metadata": {},
   "outputs": [
    {
     "data": {
      "text/plain": [
       "['2019-01-26T19:23:16.750293+00:00',\n",
       " '2019-01-26T19:23:17.749315+00:00',\n",
       " '2019-01-26T19:23:18.750127+00:00',\n",
       " '2019-01-26T19:23:19.750065+00:00',\n",
       " '2019-01-26T19:23:20.750187+00:00',\n",
       " '2019-01-26T19:23:21.749407+00:00',\n",
       " '2019-01-26T19:23:22.749424+00:00',\n",
       " '2019-01-26T19:23:23.749941+00:00',\n",
       " '2019-01-26T19:23:24.827043+00:00',\n",
       " '2019-01-26T19:23:25.754090+00:00',\n",
       " '2019-01-26T19:23:26.752629+00:00',\n",
       " '2019-01-26T19:23:27.753592+00:00',\n",
       " '2019-01-26T19:23:28.754163+00:00',\n",
       " '2019-01-26T19:23:29.753923+00:00',\n",
       " '2019-01-26T19:23:30.754094+00:00',\n",
       " '2019-01-26T19:23:31.753863+00:00',\n",
       " '2019-01-26T19:23:32.751705+00:00',\n",
       " '2019-01-26T19:23:33.753700+00:00',\n",
       " '2019-01-26T19:23:34.753807+00:00',\n",
       " '2019-01-26T19:23:35.753699+00:00',\n",
       " '2019-01-26T19:23:36.762445+00:00',\n",
       " '2019-01-26T19:23:37.753685+00:00',\n",
       " '2019-01-26T19:23:38.750491+00:00',\n",
       " '2019-01-26T19:23:39.753739+00:00',\n",
       " '2019-01-26T19:23:40.753754+00:00',\n",
       " '2019-01-26T19:23:41.751086+00:00',\n",
       " '2019-01-26T19:23:42.753740+00:00',\n",
       " '2019-01-26T19:23:43.753624+00:00',\n",
       " '2019-01-26T19:23:44.753705+00:00',\n",
       " '2019-01-26T19:23:45.753710+00:00',\n",
       " '2019-01-26T19:23:46.752821+00:00',\n",
       " '2019-01-26T19:23:47.753737+00:00',\n",
       " '2019-01-26T19:23:48.753722+00:00',\n",
       " '2019-01-26T19:23:49.753698+00:00',\n",
       " '2019-01-26T19:23:50.753609+00:00',\n",
       " '2019-01-26T19:23:51.753597+00:00',\n",
       " '2019-01-26T19:23:52.753937+00:00',\n",
       " '2019-01-26T19:23:53.749624+00:00',\n",
       " '2019-01-26T19:23:54.753796+00:00',\n",
       " '2019-01-26T19:23:55.753704+00:00',\n",
       " '2019-01-26T19:23:56.753737+00:00',\n",
       " '2019-01-26T19:23:57.753947+00:00',\n",
       " '2019-01-26T19:23:58.753708+00:00',\n",
       " '2019-01-26T19:23:59.753709+00:00',\n",
       " '2019-01-26T19:24:00.753730+00:00',\n",
       " '2019-01-26T19:24:01.753715+00:00',\n",
       " '2019-01-26T19:24:02.753959+00:00',\n",
       " '2019-01-26T19:24:03.753724+00:00',\n",
       " '2019-01-26T19:24:04.753799+00:00',\n",
       " '2019-01-26T19:24:05.751962+00:00',\n",
       " '2019-01-26T19:24:06.752668+00:00',\n",
       " '2019-01-26T19:24:07.754369+00:00',\n",
       " '2019-01-26T19:24:08.753728+00:00',\n",
       " '2019-01-26T19:24:09.753719+00:00',\n",
       " '2019-01-26T19:24:10.753741+00:00',\n",
       " '2019-01-26T19:24:11.753728+00:00',\n",
       " '2019-01-26T19:24:12.753682+00:00',\n",
       " '2019-01-26T19:24:13.753724+00:00',\n",
       " '2019-01-26T19:24:14.753762+00:00',\n",
       " '2019-01-26T19:24:15.754846+00:00',\n",
       " '2019-01-26T19:24:16.753727+00:00',\n",
       " '2019-01-26T19:24:17.749606+00:00',\n",
       " '2019-01-26T19:24:18.753777+00:00',\n",
       " '2019-01-26T19:24:19.749023+00:00',\n",
       " '2019-01-26T19:24:20.753683+00:00',\n",
       " '2019-01-26T19:24:21.753784+00:00',\n",
       " '2019-01-26T19:24:22.753797+00:00',\n",
       " '2019-01-26T19:24:23.749643+00:00',\n",
       " '2019-01-26T19:24:24.749697+00:00',\n",
       " '2019-01-26T19:24:25.753814+00:00',\n",
       " '2019-01-26T19:24:26.753803+00:00',\n",
       " '2019-01-26T19:24:27.753830+00:00',\n",
       " '2019-01-26T19:24:28.754366+00:00',\n",
       " '2019-01-26T19:24:29.753838+00:00',\n",
       " '2019-01-26T19:24:30.753858+00:00',\n",
       " '2019-01-26T19:24:31.753851+00:00',\n",
       " '2019-01-26T19:24:32.753862+00:00',\n",
       " '2019-01-26T19:24:33.749951+00:00',\n",
       " '2019-01-26T19:24:34.751559+00:00',\n",
       " '2019-01-26T19:24:35.753912+00:00',\n",
       " '2019-01-26T19:24:36.753916+00:00',\n",
       " '2019-01-26T19:24:37.753028+00:00',\n",
       " '2019-01-26T19:24:38.753888+00:00',\n",
       " '2019-01-26T19:24:39.753900+00:00',\n",
       " '2019-01-26T19:24:40.753758+00:00',\n",
       " '2019-01-26T19:24:41.754037+00:00',\n",
       " '2019-01-26T19:24:42.753919+00:00',\n",
       " '2019-01-26T19:24:43.751227+00:00',\n",
       " '2019-01-26T19:24:44.753934+00:00',\n",
       " '2019-01-26T19:24:45.753940+00:00',\n",
       " '2019-01-26T19:24:46.752707+00:00',\n",
       " '2019-01-26T19:24:47.753980+00:00',\n",
       " '2019-01-26T19:24:48.753965+00:00',\n",
       " '2019-01-26T19:24:49.754329+00:00',\n",
       " '2019-01-26T19:24:50.753973+00:00',\n",
       " '2019-01-26T19:24:51.753977+00:00',\n",
       " '2019-01-26T19:24:52.753974+00:00',\n",
       " '2019-01-26T19:24:53.753988+00:00',\n",
       " '2019-01-26T19:24:54.754122+00:00',\n",
       " '2019-01-26T19:24:55.754004+00:00',\n",
       " '2019-01-26T19:24:56.753997+00:00',\n",
       " '2019-01-26T19:24:57.754305+00:00',\n",
       " '2019-01-26T19:24:58.754020+00:00',\n",
       " '2019-01-26T19:24:59.754034+00:00',\n",
       " '2019-01-26T19:25:00.754023+00:00',\n",
       " '2019-01-26T19:25:01.754039+00:00',\n",
       " '2019-01-26T19:25:02.754036+00:00',\n",
       " '2019-01-26T19:25:03.754044+00:00',\n",
       " '2019-01-26T19:25:04.754133+00:00',\n",
       " '2019-01-26T19:25:05.754303+00:00',\n",
       " '2019-01-26T19:25:06.754072+00:00',\n",
       " '2019-01-26T19:25:06.754072+00:00',\n",
       " '2019-01-26T19:25:07.754380+00:00',\n",
       " '2019-01-26T19:25:08.754069+00:00',\n",
       " '2019-01-26T19:25:09.752185+00:00',\n",
       " '2019-01-26T19:25:10.751944+00:00',\n",
       " '2019-01-26T19:25:11.754120+00:00',\n",
       " '2019-01-26T19:25:12.754083+00:00',\n",
       " '2019-01-26T19:25:13.754117+00:00',\n",
       " '2019-01-26T19:25:14.754120+00:00',\n",
       " '2019-01-26T19:25:15.750874+00:00',\n",
       " '2019-01-26T19:25:16.755972+00:00',\n",
       " '2019-01-26T19:25:17.754131+00:00',\n",
       " '2019-01-26T19:25:18.754422+00:00',\n",
       " '2019-01-26T19:25:19.754131+00:00',\n",
       " '2019-01-26T19:25:20.754157+00:00',\n",
       " '2019-01-26T19:25:21.754310+00:00',\n",
       " '2019-01-26T19:25:22.754167+00:00',\n",
       " '2019-01-26T19:25:23.754159+00:00',\n",
       " '2019-01-26T19:25:24.754223+00:00',\n",
       " '2019-01-26T19:25:25.754190+00:00',\n",
       " '2019-01-26T19:25:26.754186+00:00',\n",
       " '2019-01-26T19:25:27.754202+00:00',\n",
       " '2019-01-26T19:25:28.754203+00:00',\n",
       " '2019-01-26T19:25:29.754211+00:00',\n",
       " '2019-01-26T19:25:30.754369+00:00',\n",
       " '2019-01-26T19:25:31.754217+00:00',\n",
       " '2019-01-26T19:25:32.754505+00:00',\n",
       " '2019-01-26T19:25:33.754385+00:00',\n",
       " '2019-01-26T19:25:34.754282+00:00',\n",
       " '2019-01-26T19:25:35.754211+00:00',\n",
       " '2019-01-26T19:25:36.754300+00:00',\n",
       " '2019-01-26T19:25:37.754260+00:00',\n",
       " '2019-01-26T19:25:38.754318+00:00',\n",
       " '2019-01-26T19:25:39.754279+00:00',\n",
       " '2019-01-26T19:25:40.754260+00:00',\n",
       " '2019-01-26T19:25:41.754283+00:00',\n",
       " '2019-01-26T19:25:42.749895+00:00',\n",
       " '2019-01-26T19:25:43.754352+00:00',\n",
       " '2019-01-26T19:25:44.749211+00:00',\n",
       " '2019-01-26T19:25:45.754236+00:00',\n",
       " '2019-01-26T19:25:46.754547+00:00',\n",
       " '2019-01-26T19:25:47.754320+00:00',\n",
       " '2019-01-26T19:25:48.754327+00:00',\n",
       " '2019-01-26T19:25:49.755998+00:00',\n",
       " '2019-01-26T19:25:50.754566+00:00',\n",
       " '2019-01-26T19:25:51.755249+00:00',\n",
       " '2019-01-26T19:25:52.754396+00:00',\n",
       " '2019-01-26T19:25:53.754393+00:00',\n",
       " '2019-01-26T19:25:54.751305+00:00',\n",
       " '2019-01-26T19:25:55.754255+00:00',\n",
       " '2019-01-26T19:25:56.749878+00:00',\n",
       " '2019-01-26T19:25:57.754460+00:00',\n",
       " '2019-01-26T19:25:58.754372+00:00',\n",
       " '2019-01-26T19:25:59.754386+00:00',\n",
       " '2019-01-26T19:26:00.754304+00:00',\n",
       " '2019-01-26T19:26:01.754464+00:00',\n",
       " '2019-01-26T19:26:02.754497+00:00',\n",
       " '2019-01-26T19:26:03.754424+00:00',\n",
       " '2019-01-26T19:26:04.754948+00:00',\n",
       " '2019-01-26T19:26:05.754416+00:00',\n",
       " '2019-01-26T19:26:06.755438+00:00',\n",
       " '2019-01-26T19:26:07.754487+00:00',\n",
       " '2019-01-26T19:26:08.754455+00:00',\n",
       " '2019-01-26T19:26:09.754441+00:00',\n",
       " '2019-01-26T19:26:10.754552+00:00',\n",
       " '2019-01-26T19:26:11.754466+00:00',\n",
       " '2019-01-26T19:26:12.754522+00:00',\n",
       " '2019-01-26T19:26:13.752858+00:00',\n",
       " '2019-01-26T19:26:14.754484+00:00',\n",
       " '2019-01-26T19:26:15.755969+00:00',\n",
       " '2019-01-26T19:26:16.754587+00:00',\n",
       " '2019-01-26T19:26:17.754505+00:00',\n",
       " '2019-01-26T19:26:18.754513+00:00',\n",
       " '2019-01-26T19:26:19.754522+00:00',\n",
       " '2019-01-26T19:26:20.754524+00:00',\n",
       " '2019-01-26T19:26:21.754621+00:00',\n",
       " '2019-01-26T19:26:22.754540+00:00',\n",
       " '2019-01-26T19:26:23.754544+00:00',\n",
       " '2019-01-26T19:26:24.754555+00:00',\n",
       " '2019-01-26T19:26:25.754956+00:00',\n",
       " '2019-01-26T19:26:26.754883+00:00',\n",
       " '2019-01-26T19:26:27.754607+00:00',\n",
       " '2019-01-26T19:26:28.754592+00:00',\n",
       " '2019-01-26T19:26:29.754615+00:00',\n",
       " '2019-01-26T19:26:30.750450+00:00',\n",
       " '2019-01-26T19:26:31.755867+00:00',\n",
       " '2019-01-26T19:26:32.753582+00:00',\n",
       " '2019-01-26T19:26:33.754606+00:00',\n",
       " '2019-01-26T19:26:34.756297+00:00',\n",
       " '2019-01-26T19:26:35.754635+00:00',\n",
       " '2019-01-26T19:26:36.754642+00:00',\n",
       " '2019-01-26T19:26:37.756535+00:00',\n",
       " '2019-01-26T19:26:38.754632+00:00',\n",
       " '2019-01-26T19:26:39.754616+00:00',\n",
       " '2019-01-26T19:26:40.754696+00:00',\n",
       " '2019-01-26T19:26:41.754675+00:00',\n",
       " '2019-01-26T19:26:42.754671+00:00',\n",
       " '2019-01-26T19:26:43.752822+00:00',\n",
       " '2019-01-26T19:26:44.753899+00:00',\n",
       " '2019-01-26T19:26:45.754691+00:00',\n",
       " '2019-01-26T19:26:46.754785+00:00',\n",
       " '2019-01-26T19:26:47.754713+00:00',\n",
       " '2019-01-26T19:26:48.754710+00:00',\n",
       " '2019-01-26T19:26:49.754724+00:00',\n",
       " '2019-01-26T19:26:50.754731+00:00',\n",
       " '2019-01-26T19:26:51.754731+00:00',\n",
       " '2019-01-26T19:26:52.754739+00:00',\n",
       " '2019-01-26T19:26:53.754706+00:00',\n",
       " '2019-01-26T19:26:54.754913+00:00',\n",
       " '2019-01-26T19:26:55.754756+00:00',\n",
       " '2019-01-26T19:26:56.754770+00:00',\n",
       " '2019-01-26T19:26:57.754841+00:00',\n",
       " '2019-01-26T19:26:58.754777+00:00',\n",
       " '2019-01-26T19:26:59.754781+00:00',\n",
       " '2019-01-26T19:27:00.754987+00:00',\n",
       " '2019-01-26T19:27:01.754795+00:00',\n",
       " '2019-01-26T19:27:02.754782+00:00',\n",
       " '2019-01-26T19:27:03.754671+00:00',\n",
       " '2019-01-26T19:27:04.754899+00:00',\n",
       " '2019-01-26T19:27:05.754823+00:00',\n",
       " '2019-01-26T19:27:06.754857+00:00',\n",
       " '2019-01-26T19:27:07.754841+00:00',\n",
       " '2019-01-26T19:27:08.755107+00:00',\n",
       " '2019-01-26T19:27:09.754754+00:00',\n",
       " '2019-01-26T19:27:10.754693+00:00',\n",
       " '2019-01-26T19:27:11.756785+00:00',\n",
       " '2019-01-26T19:27:12.754843+00:00',\n",
       " '2019-01-26T19:27:13.753520+00:00',\n",
       " '2019-01-26T19:27:14.754948+00:00',\n",
       " '2019-01-26T19:27:15.754847+00:00',\n",
       " '2019-01-26T19:27:16.754996+00:00',\n",
       " '2019-01-26T19:27:17.755127+00:00',\n",
       " '2019-01-26T19:27:18.753807+00:00',\n",
       " '2019-01-26T19:27:19.754910+00:00',\n",
       " '2019-01-26T19:27:20.751232+00:00',\n",
       " '2019-01-26T19:27:21.755136+00:00',\n",
       " '2019-01-26T19:27:22.754927+00:00',\n",
       " '2019-01-26T19:27:23.754938+00:00',\n",
       " '2019-01-26T19:27:24.754939+00:00',\n",
       " '2019-01-26T19:27:25.754946+00:00',\n",
       " '2019-01-26T19:27:26.755089+00:00',\n",
       " '2019-01-26T19:27:27.754959+00:00',\n",
       " '2019-01-26T19:27:28.754966+00:00',\n",
       " '2019-01-26T19:27:29.754980+00:00',\n",
       " '2019-01-26T19:27:30.755179+00:00',\n",
       " '2019-01-26T19:27:31.754992+00:00',\n",
       " '2019-01-26T19:27:32.755342+00:00',\n",
       " '2019-01-26T19:27:33.754840+00:00',\n",
       " '2019-01-26T19:27:34.755068+00:00',\n",
       " '2019-01-26T19:27:35.755007+00:00',\n",
       " '2019-01-26T19:27:36.755027+00:00',\n",
       " '2019-01-26T19:27:37.755009+00:00',\n",
       " '2019-01-26T19:27:38.755016+00:00',\n",
       " '2019-01-26T19:27:39.754875+00:00',\n",
       " '2019-01-26T19:27:40.755180+00:00',\n",
       " '2019-01-26T19:27:41.755049+00:00',\n",
       " '2019-01-26T19:27:42.755055+00:00',\n",
       " '2019-01-26T19:27:43.755144+00:00',\n",
       " '2019-01-26T19:27:44.755081+00:00',\n",
       " '2019-01-26T19:27:45.755076+00:00',\n",
       " '2019-01-26T19:27:46.755688+00:00',\n",
       " '2019-01-26T19:27:47.755093+00:00',\n",
       " '2019-01-26T19:27:48.755147+00:00',\n",
       " '2019-01-26T19:27:49.755085+00:00',\n",
       " '2019-01-26T19:27:50.755105+00:00',\n",
       " '2019-01-26T19:27:51.755115+00:00',\n",
       " '2019-01-26T19:27:52.755126+00:00',\n",
       " '2019-01-26T19:27:53.754867+00:00',\n",
       " '2019-01-26T19:27:54.755141+00:00',\n",
       " '2019-01-26T19:27:55.755139+00:00',\n",
       " '2019-01-26T19:27:56.755142+00:00',\n",
       " '2019-01-26T19:27:57.756762+00:00',\n",
       " '2019-01-26T19:27:58.755207+00:00',\n",
       " '2019-01-26T19:27:59.755553+00:00',\n",
       " '2019-01-26T19:28:00.755174+00:00',\n",
       " '2019-01-26T19:28:01.755179+00:00',\n",
       " '2019-01-26T19:28:02.754462+00:00',\n",
       " '2019-01-26T19:28:03.755032+00:00',\n",
       " '2019-01-26T19:28:04.755281+00:00',\n",
       " '2019-01-26T19:28:05.755213+00:00',\n",
       " '2019-01-26T19:28:06.755198+00:00',\n",
       " '2019-01-26T19:28:07.755197+00:00',\n",
       " '2019-01-26T19:28:08.755226+00:00',\n",
       " '2019-01-26T19:28:09.755551+00:00',\n",
       " '2019-01-26T19:28:10.755135+00:00',\n",
       " '2019-01-26T19:28:11.755231+00:00',\n",
       " '2019-01-26T19:28:12.755359+00:00',\n",
       " '2019-01-26T19:28:13.755276+00:00',\n",
       " '2019-01-26T19:28:14.755252+00:00',\n",
       " '2019-01-26T19:28:15.755428+00:00',\n",
       " '2019-01-26T19:28:16.755356+00:00',\n",
       " '2019-01-26T19:28:17.755272+00:00',\n",
       " '2019-01-26T19:28:18.757804+00:00',\n",
       " '2019-01-26T19:28:19.750532+00:00',\n",
       " '2019-01-26T19:28:20.755295+00:00',\n",
       " '2019-01-26T19:28:21.755337+00:00',\n",
       " '2019-01-26T19:28:22.755329+00:00',\n",
       " '2019-01-26T19:28:23.755212+00:00',\n",
       " '2019-01-26T19:28:24.755319+00:00',\n",
       " '2019-01-26T19:28:25.755326+00:00',\n",
       " '2019-01-26T19:28:26.755326+00:00',\n",
       " '2019-01-26T19:28:27.755251+00:00',\n",
       " '2019-01-26T19:28:28.755378+00:00',\n",
       " '2019-01-26T19:28:29.756544+00:00',\n",
       " '2019-01-26T19:28:30.754557+00:00',\n",
       " '2019-01-26T19:28:31.755363+00:00',\n",
       " '2019-01-26T19:28:32.753943+00:00',\n",
       " '2019-01-26T19:28:33.753057+00:00',\n",
       " '2019-01-26T19:28:34.755394+00:00',\n",
       " '2019-01-26T19:28:35.755425+00:00',\n",
       " '2019-01-26T19:28:36.755406+00:00',\n",
       " '2019-01-26T19:28:37.755491+00:00',\n",
       " '2019-01-26T19:28:38.755419+00:00',\n",
       " '2019-01-26T19:28:39.755429+00:00',\n",
       " '2019-01-26T19:28:40.755433+00:00',\n",
       " '2019-01-26T19:28:41.755432+00:00',\n",
       " '2019-01-26T19:28:42.755448+00:00',\n",
       " '2019-01-26T19:28:43.755763+00:00',\n",
       " '2019-01-26T19:28:44.755562+00:00',\n",
       " '2019-01-26T19:28:45.755459+00:00',\n",
       " '2019-01-26T19:28:46.755551+00:00',\n",
       " '2019-01-26T19:28:47.755458+00:00',\n",
       " '2019-01-26T19:28:48.752073+00:00',\n",
       " '2019-01-26T19:28:49.750533+00:00',\n",
       " '2019-01-26T19:28:50.753306+00:00',\n",
       " '2019-01-26T19:28:51.755495+00:00',\n",
       " '2019-01-26T19:28:52.754436+00:00',\n",
       " '2019-01-26T19:28:53.755399+00:00',\n",
       " '2019-01-26T19:28:54.755515+00:00',\n",
       " '2019-01-26T19:28:55.755939+00:00',\n",
       " '2019-01-26T19:28:56.755764+00:00',\n",
       " '2019-01-26T19:28:57.755534+00:00',\n",
       " '2019-01-26T19:28:58.755608+00:00',\n",
       " '2019-01-26T19:28:59.755617+00:00',\n",
       " '2019-01-26T19:29:00.755549+00:00',\n",
       " '2019-01-26T19:29:01.755566+00:00',\n",
       " '2019-01-26T19:29:02.754750+00:00',\n",
       " '2019-01-26T19:29:03.752361+00:00',\n",
       " '2019-01-26T19:29:04.755664+00:00',\n",
       " '2019-01-26T19:29:05.756297+00:00',\n",
       " '2019-01-26T19:29:06.751228+00:00',\n",
       " '2019-01-26T19:29:07.755596+00:00',\n",
       " '2019-01-26T19:29:08.752072+00:00',\n",
       " '2019-01-26T19:29:09.755682+00:00',\n",
       " '2019-01-26T19:29:10.755801+00:00',\n",
       " '2019-01-26T19:29:11.756171+00:00',\n",
       " '2019-01-26T19:29:12.755760+00:00',\n",
       " '2019-01-26T19:29:13.755638+00:00',\n",
       " '2019-01-26T19:29:14.755862+00:00',\n",
       " '2019-01-26T19:29:15.755621+00:00',\n",
       " '2019-01-26T19:29:16.755742+00:00',\n",
       " '2019-01-26T19:29:17.755700+00:00',\n",
       " '2019-01-26T19:29:18.755674+00:00',\n",
       " '2019-01-26T19:29:19.752106+00:00',\n",
       " '2019-01-26T19:29:20.755583+00:00',\n",
       " '2019-01-26T19:29:21.751276+00:00',\n",
       " '2019-01-26T19:29:22.755695+00:00',\n",
       " '2019-01-26T19:29:23.755712+00:00',\n",
       " '2019-01-26T19:29:24.755706+00:00',\n",
       " '2019-01-26T19:29:25.755713+00:00',\n",
       " '2019-01-26T19:29:26.753467+00:00',\n",
       " '2019-01-26T19:29:27.755577+00:00',\n",
       " '2019-01-26T19:29:28.755732+00:00',\n",
       " '2019-01-26T19:29:29.755739+00:00',\n",
       " '2019-01-26T19:29:30.755752+00:00',\n",
       " '2019-01-26T19:29:31.755833+00:00',\n",
       " '2019-01-26T19:29:32.755623+00:00',\n",
       " '2019-01-26T19:29:33.754750+00:00',\n",
       " '2019-01-26T19:29:34.755769+00:00',\n",
       " '2019-01-26T19:29:35.755777+00:00',\n",
       " '2019-01-26T19:29:36.755790+00:00',\n",
       " '2019-01-26T19:29:37.755661+00:00',\n",
       " '2019-01-26T19:29:38.755800+00:00',\n",
       " '2019-01-26T19:29:39.755802+00:00',\n",
       " '2019-01-26T19:29:40.755807+00:00',\n",
       " '2019-01-26T19:29:41.755678+00:00',\n",
       " '2019-01-26T19:29:42.751012+00:00',\n",
       " '2019-01-26T19:29:43.755698+00:00',\n",
       " '2019-01-26T19:29:44.755934+00:00',\n",
       " '2019-01-26T19:29:45.755865+00:00',\n",
       " '2019-01-26T19:29:46.757272+00:00',\n",
       " '2019-01-26T19:29:47.755916+00:00',\n",
       " '2019-01-26T19:29:48.754707+00:00',\n",
       " '2019-01-26T19:29:49.755871+00:00',\n",
       " '2019-01-26T19:29:50.756038+00:00',\n",
       " '2019-01-26T19:29:51.755885+00:00',\n",
       " '2019-01-26T19:29:52.755892+00:00',\n",
       " '2019-01-26T19:29:53.755892+00:00',\n",
       " '2019-01-26T19:29:54.755901+00:00',\n",
       " '2019-01-26T19:29:55.755903+00:00',\n",
       " '2019-01-26T19:29:56.755887+00:00',\n",
       " '2019-01-26T19:29:57.753289+00:00',\n",
       " '2019-01-26T19:29:58.757320+00:00',\n",
       " '2019-01-26T19:29:59.755936+00:00',\n",
       " '2019-01-26T19:30:00.755935+00:00',\n",
       " '2019-01-26T19:30:01.764501+00:00',\n",
       " '2019-01-26T19:30:02.755957+00:00',\n",
       " '2019-01-26T19:30:03.753810+00:00',\n",
       " '2019-01-26T19:30:04.756047+00:00',\n",
       " '2019-01-26T19:30:05.755969+00:00',\n",
       " '2019-01-26T19:30:06.754368+00:00',\n",
       " '2019-01-26T19:30:07.756000+00:00',\n",
       " '2019-01-26T19:30:08.755979+00:00',\n",
       " '2019-01-26T19:30:09.755978+00:00',\n",
       " '2019-01-26T19:30:10.754620+00:00',\n",
       " '2019-01-26T19:30:11.755921+00:00',\n",
       " '2019-01-26T19:30:12.756009+00:00',\n",
       " '2019-01-26T19:30:13.756623+00:00',\n",
       " '2019-01-26T19:30:14.756023+00:00',\n",
       " '2019-01-26T19:30:15.756027+00:00',\n",
       " '2019-01-26T19:30:16.756120+00:00',\n",
       " '2019-01-26T19:30:17.756039+00:00',\n",
       " '2019-01-26T19:30:18.756153+00:00',\n",
       " '2019-01-26T19:30:19.755940+00:00',\n",
       " '2019-01-26T19:30:20.756069+00:00',\n",
       " '2019-01-26T19:30:21.756035+00:00',\n",
       " '2019-01-26T19:30:22.756094+00:00',\n",
       " '2019-01-26T19:30:23.756072+00:00',\n",
       " '2019-01-26T19:30:24.756111+00:00',\n",
       " '2019-01-26T19:30:25.751507+00:00',\n",
       " '2019-01-26T19:30:26.756173+00:00',\n",
       " '2019-01-26T19:30:27.755997+00:00',\n",
       " '2019-01-26T19:30:28.756114+00:00',\n",
       " '2019-01-26T19:30:29.756129+00:00',\n",
       " '2019-01-26T19:30:30.752256+00:00',\n",
       " '2019-01-26T19:30:31.756134+00:00',\n",
       " '2019-01-26T19:30:32.756015+00:00',\n",
       " '2019-01-26T19:30:33.756126+00:00',\n",
       " '2019-01-26T19:30:34.756147+00:00',\n",
       " '2019-01-26T19:30:36.157033+00:00',\n",
       " '2019-01-26T19:30:36.756152+00:00',\n",
       " '2019-01-26T19:30:37.756510+00:00',\n",
       " '2019-01-26T19:30:38.756178+00:00',\n",
       " '2019-01-26T19:30:39.756187+00:00',\n",
       " '2019-01-26T19:30:40.756185+00:00',\n",
       " '2019-01-26T19:30:41.824072+00:00',\n",
       " '2019-01-26T19:30:42.823940+00:00',\n",
       " '2019-01-26T19:30:43.847024+00:00',\n",
       " '2019-01-26T19:30:44.824013+00:00',\n",
       " '2019-01-26T19:30:45.824369+00:00',\n",
       " '2019-01-26T19:30:46.824100+00:00',\n",
       " '2019-01-26T19:30:47.824048+00:00',\n",
       " '2019-01-26T19:30:48.824680+00:00',\n",
       " '2019-01-26T19:30:49.824067+00:00',\n",
       " '2019-01-26T19:30:50.824052+00:00',\n",
       " '2019-01-26T19:30:51.824635+00:00',\n",
       " '2019-01-26T19:30:52.824163+00:00',\n",
       " '2019-01-26T19:30:53.824241+00:00',\n",
       " '2019-01-26T19:30:54.824645+00:00',\n",
       " '2019-01-26T19:30:55.824387+00:00',\n",
       " '2019-01-26T19:30:56.824107+00:00',\n",
       " '2019-01-26T19:30:57.847853+00:00',\n",
       " '2019-01-26T19:30:58.824126+00:00',\n",
       " '2019-01-26T19:30:59.846566+00:00',\n",
       " '2019-01-26T19:31:00.826603+00:00',\n",
       " '2019-01-26T19:31:01.824227+00:00',\n",
       " '2019-01-26T19:31:02.823973+00:00',\n",
       " '2019-01-26T19:31:03.824432+00:00',\n",
       " '2019-01-26T19:31:04.824429+00:00',\n",
       " '2019-01-26T19:31:05.824148+00:00',\n",
       " '2019-01-26T19:31:06.824772+00:00',\n",
       " '2019-01-26T19:31:07.824196+00:00',\n",
       " '2019-01-26T19:31:08.824416+00:00',\n",
       " '2019-01-26T19:31:09.825390+00:00',\n",
       " '2019-01-26T19:31:10.824365+00:00',\n",
       " '2019-01-26T19:31:11.824902+00:00',\n",
       " '2019-01-26T19:31:12.826370+00:00',\n",
       " '2019-01-26T19:31:13.824508+00:00',\n",
       " '2019-01-26T19:31:14.824224+00:00',\n",
       " '2019-01-26T19:31:15.824607+00:00',\n",
       " '2019-01-26T19:31:16.824010+00:00',\n",
       " '2019-01-26T19:31:17.824240+00:00',\n",
       " '2019-01-26T19:31:18.824480+00:00',\n",
       " '2019-01-26T19:31:19.824845+00:00',\n",
       " '2019-01-26T19:31:20.824254+00:00',\n",
       " '2019-01-26T19:31:21.824533+00:00',\n",
       " '2019-01-26T19:31:22.824547+00:00',\n",
       " '2019-01-26T19:31:23.824121+00:00',\n",
       " '2019-01-26T19:31:24.826947+00:00',\n",
       " '2019-01-26T19:31:25.846436+00:00',\n",
       " '2019-01-26T19:31:26.824279+00:00',\n",
       " '2019-01-26T19:31:27.825966+00:00',\n",
       " '2019-01-26T19:31:28.846104+00:00',\n",
       " '2019-01-26T19:31:29.762103+00:00',\n",
       " '2019-01-26T19:31:30.824366+00:00',\n",
       " '2019-01-26T19:31:31.824334+00:00',\n",
       " '2019-01-26T19:31:32.824504+00:00',\n",
       " '2019-01-26T19:31:33.824368+00:00',\n",
       " '2019-01-26T19:31:34.824345+00:00',\n",
       " '2019-01-26T19:31:35.824343+00:00',\n",
       " '2019-01-26T19:31:36.828069+00:00',\n",
       " '2019-01-26T19:31:37.824455+00:00',\n",
       " '2019-01-26T19:31:38.824919+00:00',\n",
       " '2019-01-26T19:31:39.824422+00:00',\n",
       " '2019-01-26T19:31:40.824416+00:00',\n",
       " '2019-01-26T19:31:41.824817+00:00',\n",
       " '2019-01-26T19:31:42.836638+00:00',\n",
       " '2019-01-26T19:31:43.843125+00:00',\n",
       " '2019-01-26T19:31:44.824412+00:00',\n",
       " '2019-01-26T19:31:45.824420+00:00',\n",
       " '2019-01-26T19:31:46.832052+00:00',\n",
       " '2019-01-26T19:31:47.824435+00:00',\n",
       " '2019-01-26T19:31:48.824427+00:00',\n",
       " '2019-01-26T19:31:49.824458+00:00',\n",
       " '2019-01-26T19:31:50.824442+00:00',\n",
       " '2019-01-26T19:31:51.824443+00:00',\n",
       " '2019-01-26T19:31:52.824625+00:00',\n",
       " '2019-01-26T19:31:53.829221+00:00',\n",
       " '2019-01-26T19:31:54.825119+00:00',\n",
       " '2019-01-26T19:31:55.838246+00:00',\n",
       " '2019-01-26T19:31:56.824693+00:00',\n",
       " '2019-01-26T19:31:57.824284+00:00',\n",
       " '2019-01-26T19:31:58.824833+00:00',\n",
       " '2019-01-26T19:31:59.846786+00:00',\n",
       " '2019-01-26T19:32:00.825257+00:00',\n",
       " '2019-01-26T19:32:01.826843+00:00',\n",
       " '2019-01-26T19:32:02.824531+00:00',\n",
       " '2019-01-26T19:32:03.824608+00:00',\n",
       " '2019-01-26T19:32:04.824716+00:00',\n",
       " '2019-01-26T19:32:05.825482+00:00',\n",
       " '2019-01-26T19:32:06.824711+00:00',\n",
       " '2019-01-26T19:32:07.827058+00:00',\n",
       " '2019-01-26T19:32:08.833400+00:00',\n",
       " '2019-01-26T19:32:09.825302+00:00',\n",
       " '2019-01-26T19:32:10.826133+00:00',\n",
       " '2019-01-26T19:32:11.824651+00:00',\n",
       " '2019-01-26T19:32:12.824569+00:00',\n",
       " '2019-01-26T19:32:13.825221+00:00',\n",
       " '2019-01-26T19:32:14.824581+00:00',\n",
       " '2019-01-26T19:32:15.824437+00:00',\n",
       " '2019-01-26T19:32:16.824375+00:00',\n",
       " '2019-01-26T19:32:17.824784+00:00',\n",
       " '2019-01-26T19:32:18.824636+00:00',\n",
       " '2019-01-26T19:32:19.825147+00:00',\n",
       " '2019-01-26T19:32:20.824632+00:00',\n",
       " '2019-01-26T19:32:21.824633+00:00',\n",
       " '2019-01-26T19:32:22.825889+00:00',\n",
       " '2019-01-26T19:32:23.838441+00:00',\n",
       " '2019-01-26T19:32:24.824680+00:00',\n",
       " '2019-01-26T19:32:25.845759+00:00',\n",
       " '2019-01-26T19:32:26.824689+00:00',\n",
       " '2019-01-26T19:32:27.824730+00:00',\n",
       " '2019-01-26T19:32:28.845668+00:00',\n",
       " '2019-01-26T19:32:29.762901+00:00',\n",
       " '2019-01-26T19:32:30.824708+00:00',\n",
       " '2019-01-26T19:32:31.824701+00:00',\n",
       " '2019-01-26T19:32:32.826729+00:00',\n",
       " '2019-01-26T19:32:33.824736+00:00',\n",
       " '2019-01-26T19:32:34.824733+00:00',\n",
       " '2019-01-26T19:32:35.825254+00:00',\n",
       " '2019-01-26T19:32:36.824737+00:00',\n",
       " '2019-01-26T19:32:37.824756+00:00',\n",
       " '2019-01-26T19:32:38.838998+00:00',\n",
       " '2019-01-26T19:32:39.824956+00:00',\n",
       " '2019-01-26T19:32:40.824771+00:00',\n",
       " '2019-01-26T19:32:41.825022+00:00',\n",
       " '2019-01-26T19:32:42.824947+00:00',\n",
       " '2019-01-26T19:32:43.824870+00:00',\n",
       " '2019-01-26T19:32:44.825085+00:00',\n",
       " '2019-01-26T19:32:45.824790+00:00',\n",
       " '2019-01-26T19:32:46.824563+00:00',\n",
       " '2019-01-26T19:32:47.824671+00:00',\n",
       " '2019-01-26T19:32:48.824832+00:00',\n",
       " '2019-01-26T19:32:49.824973+00:00',\n",
       " '2019-01-26T19:32:50.825035+00:00',\n",
       " '2019-01-26T19:32:51.824850+00:00',\n",
       " '2019-01-26T19:32:52.824860+00:00',\n",
       " '2019-01-26T19:32:53.842270+00:00',\n",
       " '2019-01-26T19:32:54.825111+00:00',\n",
       " '2019-01-26T19:32:55.825293+00:00',\n",
       " '2019-01-26T19:32:56.825514+00:00',\n",
       " '2019-01-26T19:32:57.827047+00:00',\n",
       " '2019-01-26T19:32:58.825214+00:00',\n",
       " '2019-01-26T19:32:59.845835+00:00',\n",
       " '2019-01-26T19:33:00.824869+00:00',\n",
       " '2019-01-26T19:33:01.825101+00:00',\n",
       " '2019-01-26T19:33:02.824914+00:00',\n",
       " '2019-01-26T19:33:03.844478+00:00',\n",
       " '2019-01-26T19:33:04.825199+00:00',\n",
       " '2019-01-26T19:33:05.825225+00:00',\n",
       " '2019-01-26T19:33:06.825295+00:00',\n",
       " '2019-01-26T19:33:07.824947+00:00',\n",
       " '2019-01-26T19:33:08.847621+00:00',\n",
       " '2019-01-26T19:33:09.826125+00:00',\n",
       " '2019-01-26T19:33:10.824966+00:00',\n",
       " '2019-01-26T19:33:11.825256+00:00',\n",
       " '2019-01-26T19:33:12.825293+00:00',\n",
       " '2019-01-26T19:33:13.828896+00:00',\n",
       " '2019-01-26T19:33:14.824907+00:00',\n",
       " '2019-01-26T19:33:15.825353+00:00',\n",
       " '2019-01-26T19:33:16.826290+00:00',\n",
       " '2019-01-26T19:33:17.826532+00:00',\n",
       " '2019-01-26T19:33:18.828172+00:00',\n",
       " '2019-01-26T19:33:19.846570+00:00',\n",
       " '2019-01-26T19:33:20.824866+00:00',\n",
       " '2019-01-26T19:33:21.891287+00:00',\n",
       " '2019-01-26T19:33:22.763507+00:00',\n",
       " '2019-01-26T19:33:23.827821+00:00',\n",
       " '2019-01-26T19:33:24.844242+00:00',\n",
       " '2019-01-26T19:33:25.845828+00:00',\n",
       " '2019-01-26T19:33:26.826535+00:00',\n",
       " '2019-01-26T19:33:27.824134+00:00',\n",
       " '2019-01-26T19:33:28.845831+00:00',\n",
       " '2019-01-26T19:33:29.762846+00:00',\n",
       " '2019-01-26T19:33:30.824933+00:00',\n",
       " '2019-01-26T19:33:31.825108+00:00',\n",
       " '2019-01-26T19:33:32.825240+00:00',\n",
       " '2019-01-26T19:33:33.825124+00:00',\n",
       " '2019-01-26T19:33:34.824947+00:00',\n",
       " '2019-01-26T19:33:35.826387+00:00',\n",
       " '2019-01-26T19:33:36.825139+00:00',\n",
       " '2019-01-26T19:33:37.825148+00:00',\n",
       " '2019-01-26T19:33:38.825324+00:00',\n",
       " '2019-01-26T19:33:39.825153+00:00',\n",
       " '2019-01-26T19:33:40.825423+00:00',\n",
       " '2019-01-26T19:33:41.825841+00:00',\n",
       " '2019-01-26T19:33:42.829866+00:00',\n",
       " '2019-01-26T19:33:43.825116+00:00',\n",
       " '2019-01-26T19:33:44.825155+00:00',\n",
       " '2019-01-26T19:33:45.825551+00:00',\n",
       " '2019-01-26T19:33:46.824972+00:00',\n",
       " '2019-01-26T19:33:47.825181+00:00',\n",
       " '2019-01-26T19:33:48.846389+00:00',\n",
       " '2019-01-26T19:33:49.825225+00:00',\n",
       " '2019-01-26T19:33:50.825238+00:00',\n",
       " '2019-01-26T19:33:51.827348+00:00',\n",
       " '2019-01-26T19:33:52.853316+00:00',\n",
       " '2019-01-26T19:33:53.825660+00:00',\n",
       " '2019-01-26T19:33:54.838874+00:00',\n",
       " '2019-01-26T19:33:55.825414+00:00',\n",
       " '2019-01-26T19:33:56.825483+00:00',\n",
       " '2019-01-26T19:33:57.825636+00:00',\n",
       " '2019-01-26T19:33:58.825274+00:00',\n",
       " '2019-01-26T19:33:59.845831+00:00',\n",
       " '2019-01-26T19:34:00.825234+00:00',\n",
       " '2019-01-26T19:34:01.825264+00:00',\n",
       " '2019-01-26T19:34:02.825278+00:00',\n",
       " '2019-01-26T19:34:03.825284+00:00',\n",
       " '2019-01-26T19:34:04.825148+00:00',\n",
       " '2019-01-26T19:34:05.825314+00:00',\n",
       " '2019-01-26T19:34:06.825473+00:00',\n",
       " '2019-01-26T19:34:07.826253+00:00',\n",
       " '2019-01-26T19:34:08.825383+00:00',\n",
       " '2019-01-26T19:34:09.826225+00:00',\n",
       " '2019-01-26T19:34:10.825726+00:00',\n",
       " '2019-01-26T19:34:11.826213+00:00',\n",
       " '2019-01-26T19:34:12.826166+00:00',\n",
       " '2019-01-26T19:34:13.825969+00:00',\n",
       " '2019-01-26T19:34:14.825352+00:00',\n",
       " '2019-01-26T19:34:15.825418+00:00',\n",
       " '2019-01-26T19:34:16.825193+00:00',\n",
       " '2019-01-26T19:34:17.825554+00:00',\n",
       " '2019-01-26T19:34:18.825418+00:00',\n",
       " '2019-01-26T19:34:19.825847+00:00',\n",
       " '2019-01-26T19:34:20.825634+00:00',\n",
       " '2019-01-26T19:34:21.825479+00:00',\n",
       " '2019-01-26T19:34:22.825414+00:00',\n",
       " '2019-01-26T19:34:23.825408+00:00',\n",
       " '2019-01-26T19:34:24.826003+00:00',\n",
       " '2019-01-26T19:34:25.845822+00:00',\n",
       " '2019-01-26T19:34:26.825435+00:00',\n",
       " '2019-01-26T19:34:27.825460+00:00',\n",
       " '2019-01-26T19:34:28.845832+00:00',\n",
       " '2019-01-26T19:34:29.763233+00:00',\n",
       " '2019-01-26T19:34:30.825660+00:00',\n",
       " '2019-01-26T19:34:31.825345+00:00',\n",
       " '2019-01-26T19:34:32.825521+00:00',\n",
       " '2019-01-26T19:34:33.825672+00:00',\n",
       " '2019-01-26T19:34:34.825271+00:00',\n",
       " '2019-01-26T19:34:35.825359+00:00',\n",
       " '2019-01-26T19:34:36.826313+00:00',\n",
       " '2019-01-26T19:34:37.825505+00:00',\n",
       " '2019-01-26T19:34:38.825717+00:00',\n",
       " '2019-01-26T19:34:39.825527+00:00',\n",
       " '2019-01-26T19:34:40.833202+00:00',\n",
       " '2019-01-26T19:34:41.826008+00:00',\n",
       " '2019-01-26T19:34:42.825589+00:00',\n",
       " '2019-01-26T19:34:43.831753+00:00',\n",
       " '2019-01-26T19:34:44.825964+00:00',\n",
       " '2019-01-26T19:34:45.825774+00:00',\n",
       " '2019-01-26T19:34:46.825351+00:00',\n",
       " '2019-01-26T19:34:47.825643+00:00',\n",
       " '2019-01-26T19:34:48.825584+00:00',\n",
       " '2019-01-26T19:34:49.825594+00:00',\n",
       " '2019-01-26T19:34:50.825765+00:00',\n",
       " '2019-01-26T19:34:51.825605+00:00',\n",
       " '2019-01-26T19:34:52.825888+00:00',\n",
       " '2019-01-26T19:34:53.827084+00:00',\n",
       " '2019-01-26T19:34:54.825611+00:00',\n",
       " '2019-01-26T19:34:55.825772+00:00',\n",
       " '2019-01-26T19:34:56.825635+00:00',\n",
       " '2019-01-26T19:34:57.826086+00:00',\n",
       " '2019-01-26T19:34:58.825629+00:00',\n",
       " '2019-01-26T19:34:59.846394+00:00',\n",
       " '2019-01-26T19:35:00.826338+00:00',\n",
       " '2019-01-26T19:35:01.824796+00:00',\n",
       " '2019-01-26T19:35:02.825674+00:00',\n",
       " '2019-01-26T19:35:03.793657+00:00',\n",
       " '2019-01-26T19:35:04.826148+00:00',\n",
       " '2019-01-26T19:35:05.825678+00:00',\n",
       " '2019-01-26T19:35:06.826056+00:00',\n",
       " '2019-01-26T19:35:07.825706+00:00',\n",
       " '2019-01-26T19:35:08.825716+00:00',\n",
       " '2019-01-26T19:35:09.826635+00:00',\n",
       " '2019-01-26T19:35:10.825727+00:00',\n",
       " '2019-01-26T19:35:11.825803+00:00',\n",
       " '2019-01-26T19:35:12.825741+00:00',\n",
       " '2019-01-26T19:35:13.826019+00:00',\n",
       " '2019-01-26T19:35:14.825967+00:00',\n",
       " '2019-01-26T19:35:15.826877+00:00',\n",
       " '2019-01-26T19:35:16.825536+00:00',\n",
       " '2019-01-26T19:35:17.826206+00:00',\n",
       " '2019-01-26T19:35:18.825590+00:00',\n",
       " '2019-01-26T19:35:19.825785+00:00',\n",
       " '2019-01-26T19:35:20.825781+00:00',\n",
       " '2019-01-26T19:35:21.825798+00:00',\n",
       " '2019-01-26T19:35:22.825666+00:00',\n",
       " '2019-01-26T19:35:23.825779+00:00',\n",
       " '2019-01-26T19:35:24.825815+00:00',\n",
       " '2019-01-26T19:35:25.845823+00:00',\n",
       " '2019-01-26T19:35:26.826195+00:00',\n",
       " '2019-01-26T19:35:27.825842+00:00',\n",
       " '2019-01-26T19:35:28.846516+00:00',\n",
       " '2019-01-26T19:35:29.763616+00:00',\n",
       " '2019-01-26T19:35:30.825889+00:00',\n",
       " '2019-01-26T19:35:31.826566+00:00',\n",
       " '2019-01-26T19:35:32.825846+00:00',\n",
       " '2019-01-26T19:35:33.825865+00:00',\n",
       " '2019-01-26T19:35:34.825632+00:00',\n",
       " '2019-01-26T19:35:35.825899+00:00',\n",
       " '2019-01-26T19:35:36.825892+00:00',\n",
       " '2019-01-26T19:35:37.827600+00:00',\n",
       " '2019-01-26T19:35:38.825924+00:00',\n",
       " '2019-01-26T19:35:39.825912+00:00',\n",
       " '2019-01-26T19:35:40.825922+00:00',\n",
       " '2019-01-26T19:35:41.825928+00:00',\n",
       " '2019-01-26T19:35:42.825971+00:00',\n",
       " '2019-01-26T19:35:43.841812+00:00',\n",
       " '2019-01-26T19:35:44.855607+00:00',\n",
       " '2019-01-26T19:35:45.825932+00:00',\n",
       " '2019-01-26T19:35:46.825791+00:00',\n",
       " '2019-01-26T19:35:47.825947+00:00',\n",
       " '2019-01-26T19:35:48.826150+00:00',\n",
       " '2019-01-26T19:35:49.825833+00:00',\n",
       " '2019-01-26T19:35:50.826778+00:00',\n",
       " '2019-01-26T19:35:51.825988+00:00',\n",
       " '2019-01-26T19:35:52.826013+00:00',\n",
       " '2019-01-26T19:35:53.826501+00:00',\n",
       " '2019-01-26T19:35:54.825989+00:00',\n",
       " '2019-01-26T19:35:55.825997+00:00',\n",
       " '2019-01-26T19:35:56.826363+00:00',\n",
       " '2019-01-26T19:35:57.826165+00:00',\n",
       " '2019-01-26T19:35:58.826635+00:00',\n",
       " '2019-01-26T19:35:59.848036+00:00',\n",
       " '2019-01-26T19:36:00.826020+00:00',\n",
       " '2019-01-26T19:36:01.826062+00:00',\n",
       " '2019-01-26T19:36:02.826011+00:00',\n",
       " '2019-01-26T19:36:03.826137+00:00',\n",
       " '2019-01-26T19:36:04.846257+00:00',\n",
       " '2019-01-26T19:36:05.826161+00:00',\n",
       " '2019-01-26T19:36:06.849398+00:00',\n",
       " '2019-01-26T19:36:07.826226+00:00',\n",
       " '2019-01-26T19:36:08.826095+00:00',\n",
       " '2019-01-26T19:36:09.827097+00:00',\n",
       " '2019-01-26T19:36:10.830926+00:00',\n",
       " '2019-01-26T19:36:11.970729+00:00',\n",
       " '2019-01-26T19:36:12.842400+00:00',\n",
       " '2019-01-26T19:36:13.832681+00:00',\n",
       " '2019-01-26T19:36:14.826258+00:00',\n",
       " '2019-01-26T19:36:15.826216+00:00',\n",
       " '2019-01-26T19:36:16.825925+00:00',\n",
       " '2019-01-26T19:36:17.826152+00:00',\n",
       " '2019-01-26T19:36:18.826167+00:00',\n",
       " '2019-01-26T19:36:19.826376+00:00',\n",
       " '2019-01-26T19:36:20.826154+00:00',\n",
       " '2019-01-26T19:36:21.826334+00:00',\n",
       " '2019-01-26T19:36:22.826189+00:00',\n",
       " '2019-01-26T19:36:23.826203+00:00',\n",
       " '2019-01-26T19:36:24.826179+00:00',\n",
       " '2019-01-26T19:36:25.846126+00:00',\n",
       " '2019-01-26T19:36:26.826195+00:00',\n",
       " '2019-01-26T19:36:27.826225+00:00',\n",
       " '2019-01-26T19:36:28.845833+00:00',\n",
       " '2019-01-26T19:36:29.765369+00:00',\n",
       " '2019-01-26T19:36:30.826470+00:00',\n",
       " '2019-01-26T19:36:31.826585+00:00',\n",
       " '2019-01-26T19:36:32.826418+00:00',\n",
       " '2019-01-26T19:36:33.826258+00:00',\n",
       " '2019-01-26T19:36:34.827626+00:00',\n",
       " '2019-01-26T19:36:35.826453+00:00',\n",
       " '2019-01-26T19:36:36.826277+00:00',\n",
       " '2019-01-26T19:36:37.826283+00:00',\n",
       " '2019-01-26T19:36:38.826274+00:00',\n",
       " '2019-01-26T19:36:39.826288+00:00',\n",
       " '2019-01-26T19:36:40.826275+00:00',\n",
       " '2019-01-26T19:36:41.826291+00:00',\n",
       " '2019-01-26T19:36:42.826620+00:00',\n",
       " '2019-01-26T19:36:43.826764+00:00',\n",
       " '2019-01-26T19:36:44.854685+00:00',\n",
       " '2019-01-26T19:36:45.826395+00:00',\n",
       " '2019-01-26T19:36:46.826107+00:00',\n",
       " '2019-01-26T19:36:47.826349+00:00',\n",
       " '2019-01-26T19:36:48.826355+00:00',\n",
       " '2019-01-26T19:36:49.826472+00:00',\n",
       " '2019-01-26T19:36:50.826499+00:00',\n",
       " '2019-01-26T19:36:51.826373+00:00',\n",
       " '2019-01-26T19:36:52.827246+00:00',\n",
       " '2019-01-26T19:36:53.826805+00:00',\n",
       " '2019-01-26T19:36:54.826931+00:00',\n",
       " '2019-01-26T19:36:55.826373+00:00',\n",
       " '2019-01-26T19:36:56.826991+00:00',\n",
       " '2019-01-26T19:36:57.826406+00:00',\n",
       " '2019-01-26T19:36:58.826431+00:00',\n",
       " '2019-01-26T19:36:59.845826+00:00',\n",
       " '2019-01-26T19:37:00.826440+00:00',\n",
       " '2019-01-26T19:37:01.827148+00:00',\n",
       " '2019-01-26T19:37:02.826433+00:00',\n",
       " '2019-01-26T19:37:03.826510+00:00',\n",
       " '2019-01-26T19:37:04.826563+00:00',\n",
       " '2019-01-26T19:37:05.826671+00:00',\n",
       " '2019-01-26T19:37:06.826466+00:00',\n",
       " '2019-01-26T19:37:07.826466+00:00',\n",
       " '2019-01-26T19:37:08.827589+00:00',\n",
       " '2019-01-26T19:37:09.827395+00:00',\n",
       " '2019-01-26T19:37:10.826333+00:00',\n",
       " '2019-01-26T19:37:11.826558+00:00',\n",
       " '2019-01-26T19:37:12.826537+00:00',\n",
       " '2019-01-26T19:37:13.828214+00:00',\n",
       " '2019-01-26T19:37:14.826738+00:00',\n",
       " '2019-01-26T19:37:15.826675+00:00',\n",
       " '2019-01-26T19:37:16.826375+00:00',\n",
       " '2019-01-26T19:37:17.833255+00:00',\n",
       " '2019-01-26T19:37:18.826997+00:00',\n",
       " '2019-01-26T19:37:19.826934+00:00',\n",
       " '2019-01-26T19:37:20.827275+00:00',\n",
       " '2019-01-26T19:37:21.826743+00:00',\n",
       " '2019-01-26T19:37:22.826572+00:00',\n",
       " '2019-01-26T19:37:23.826576+00:00',\n",
       " '2019-01-26T19:37:24.826761+00:00',\n",
       " '2019-01-26T19:37:25.845822+00:00',\n",
       " '2019-01-26T19:37:26.826534+00:00',\n",
       " '2019-01-26T19:37:27.826702+00:00',\n",
       " '2019-01-26T19:37:28.845661+00:00',\n",
       " '2019-01-26T19:37:29.764379+00:00',\n",
       " '2019-01-26T19:37:30.826622+00:00',\n",
       " '2019-01-26T19:37:31.826613+00:00',\n",
       " '2019-01-26T19:37:32.826621+00:00',\n",
       " '2019-01-26T19:37:33.826663+00:00',\n",
       " '2019-01-26T19:37:34.826694+00:00',\n",
       " '2019-01-26T19:37:35.826726+00:00',\n",
       " '2019-01-26T19:37:36.826577+00:00',\n",
       " '2019-01-26T19:37:37.826943+00:00',\n",
       " '2019-01-26T19:37:38.825789+00:00',\n",
       " '2019-01-26T19:37:39.824427+00:00',\n",
       " '2019-01-26T19:37:40.823505+00:00',\n",
       " '2019-01-26T19:37:41.822701+00:00',\n",
       " '2019-01-26T19:37:42.821865+00:00',\n",
       " '2019-01-26T19:37:43.821406+00:00',\n",
       " '2019-01-26T19:37:44.820120+00:00',\n",
       " '2019-01-26T19:37:45.748678+00:00',\n",
       " '2019-01-26T19:37:46.759178+00:00',\n",
       " '2019-01-26T19:37:47.750397+00:00',\n",
       " '2019-01-26T19:37:48.749979+00:00',\n",
       " '2019-01-26T19:37:49.749306+00:00',\n",
       " '2019-01-26T19:37:50.746122+00:00',\n",
       " '2019-01-26T19:37:51.748570+00:00',\n",
       " '2019-01-26T19:37:52.747852+00:00',\n",
       " '2019-01-26T19:37:53.747297+00:00',\n",
       " '2019-01-26T19:37:54.747257+00:00',\n",
       " '2019-01-26T19:37:55.761792+00:00',\n",
       " '2019-01-26T19:37:56.746337+00:00',\n",
       " '2019-01-26T19:37:57.746037+00:00',\n",
       " '2019-01-26T19:37:58.745714+00:00',\n",
       " '2019-01-26T19:37:59.745497+00:00',\n",
       " '2019-01-26T19:38:00.745202+00:00',\n",
       " '2019-01-26T19:38:02.427512+00:00',\n",
       " '2019-01-26T19:38:02.744729+00:00',\n",
       " '2019-01-26T19:38:03.744413+00:00',\n",
       " '2019-01-26T19:38:04.744395+00:00',\n",
       " '2019-01-26T19:38:05.744300+00:00',\n",
       " '2019-01-26T19:38:06.743947+00:00',\n",
       " '2019-01-26T19:38:07.744257+00:00',\n",
       " '2019-01-26T19:38:08.811894+00:00',\n",
       " '2019-01-26T19:38:09.812075+00:00',\n",
       " '2019-01-26T19:38:10.811166+00:00',\n",
       " '2019-01-26T19:38:11.813164+00:00',\n",
       " '2019-01-26T19:38:12.811176+00:00',\n",
       " '2019-01-26T19:38:13.813991+00:00',\n",
       " '2019-01-26T19:38:14.810792+00:00',\n",
       " '2019-01-26T19:38:15.810611+00:00',\n",
       " '2019-01-26T19:38:16.810412+00:00',\n",
       " '2019-01-26T19:38:17.810749+00:00',\n",
       " '2019-01-26T19:38:18.810397+00:00',\n",
       " '2019-01-26T19:38:19.810335+00:00',\n",
       " '2019-01-26T19:38:20.810252+00:00',\n",
       " '2019-01-26T19:38:21.810216+00:00',\n",
       " '2019-01-26T19:38:22.810156+00:00',\n",
       " '2019-01-26T19:38:23.810258+00:00',\n",
       " '2019-01-26T19:38:24.810092+00:00',\n",
       " '2019-01-26T19:38:25.830025+00:00',\n",
       " '2019-01-26T19:38:26.809956+00:00',\n",
       " '2019-01-26T19:38:27.809775+00:00',\n",
       " '2019-01-26T19:38:28.828667+00:00',\n",
       " '2019-01-26T19:38:29.748127+00:00',\n",
       " '2019-01-26T19:38:30.810199+00:00',\n",
       " '2019-01-26T19:38:31.809808+00:00',\n",
       " '2019-01-26T19:38:32.809960+00:00',\n",
       " '2019-01-26T19:38:33.809648+00:00',\n",
       " '2019-01-26T19:38:34.809763+00:00',\n",
       " '2019-01-26T19:38:35.809908+00:00',\n",
       " '2019-01-26T19:38:36.809955+00:00',\n",
       " '2019-01-26T19:38:37.809713+00:00',\n",
       " '2019-01-26T19:38:38.809707+00:00',\n",
       " '2019-01-26T19:38:39.809842+00:00',\n",
       " '2019-01-26T19:38:40.809686+00:00',\n",
       " '2019-01-26T19:38:41.815113+00:00',\n",
       " '2019-01-26T19:38:42.787466+00:00',\n",
       " '2019-01-26T19:38:43.809659+00:00',\n",
       " '2019-01-26T19:38:44.809708+00:00',\n",
       " '2019-01-26T19:38:45.809908+00:00',\n",
       " '2019-01-26T19:38:46.809497+00:00',\n",
       " '2019-01-26T19:38:47.809670+00:00',\n",
       " '2019-01-26T19:38:47.809670+00:00',\n",
       " '2019-01-26T19:38:48.809771+00:00',\n",
       " '2019-01-26T19:38:49.809694+00:00',\n",
       " '2019-01-26T19:38:50.809657+00:00',\n",
       " '2019-01-26T19:38:51.810722+00:00',\n",
       " '2019-01-26T19:38:52.810213+00:00',\n",
       " '2019-01-26T19:38:53.809666+00:00',\n",
       " '2019-01-26T19:38:54.809729+00:00',\n",
       " '2019-01-26T19:38:55.810048+00:00',\n",
       " '2019-01-26T19:38:56.809667+00:00',\n",
       " '2019-01-26T19:38:57.809986+00:00',\n",
       " '2019-01-26T19:38:58.809527+00:00',\n",
       " '2019-01-26T19:38:59.809700+00:00',\n",
       " '2019-01-26T19:39:00.809703+00:00',\n",
       " '2019-01-26T19:39:01.820687+00:00',\n",
       " '2019-01-26T19:39:02.755804+00:00',\n",
       " '2019-01-26T19:39:03.823426+00:00',\n",
       " '2019-01-26T19:39:04.809988+00:00',\n",
       " '2019-01-26T19:39:05.809727+00:00',\n",
       " '2019-01-26T19:39:06.809796+00:00',\n",
       " '2019-01-26T19:39:07.809753+00:00',\n",
       " '2019-01-26T19:39:08.809985+00:00',\n",
       " '2019-01-26T19:39:09.811072+00:00',\n",
       " '2019-01-26T19:39:10.809777+00:00',\n",
       " '2019-01-26T19:39:11.809779+00:00',\n",
       " '2019-01-26T19:39:12.810727+00:00',\n",
       " '2019-01-26T19:39:13.820667+00:00',\n",
       " '2019-01-26T19:39:14.809793+00:00',\n",
       " '2019-01-26T19:39:15.809907+00:00',\n",
       " '2019-01-26T19:39:16.809603+00:00',\n",
       " '2019-01-26T19:39:17.809835+00:00',\n",
       " '2019-01-26T19:39:18.810224+00:00',\n",
       " '2019-01-26T19:39:19.809892+00:00',\n",
       " '2019-01-26T19:39:20.809866+00:00',\n",
       " '2019-01-26T19:39:21.810058+00:00',\n",
       " '2019-01-26T19:39:22.809920+00:00',\n",
       " '2019-01-26T19:39:23.809921+00:00',\n",
       " '2019-01-26T19:39:24.809910+00:00',\n",
       " '2019-01-26T19:39:25.810051+00:00',\n",
       " '2019-01-26T19:39:26.809909+00:00',\n",
       " '2019-01-26T19:39:27.809940+00:00',\n",
       " '2019-01-26T19:39:28.809815+00:00',\n",
       " '2019-01-26T19:39:29.748653+00:00',\n",
       " '2019-01-26T19:39:30.810001+00:00',\n",
       " '2019-01-26T19:39:31.810609+00:00',\n",
       " '2019-01-26T19:39:32.810349+00:00',\n",
       " '2019-01-26T19:39:33.827247+00:00',\n",
       " '2019-01-26T19:39:34.810171+00:00',\n",
       " '2019-01-26T19:39:35.810343+00:00',\n",
       " '2019-01-26T19:39:36.818280+00:00',\n",
       " '2019-01-26T19:39:37.810265+00:00',\n",
       " '2019-01-26T19:39:38.810064+00:00',\n",
       " '2019-01-26T19:39:39.810073+00:00',\n",
       " '2019-01-26T19:39:40.810066+00:00',\n",
       " '2019-01-26T19:39:41.810123+00:00',\n",
       " '2019-01-26T19:39:42.809996+00:00',\n",
       " '2019-01-26T19:39:43.810390+00:00',\n",
       " '2019-01-26T19:39:44.810008+00:00',\n",
       " '2019-01-26T19:39:45.810132+00:00',\n",
       " '2019-01-26T19:39:46.809928+00:00',\n",
       " '2019-01-26T19:39:47.810401+00:00',\n",
       " '2019-01-26T19:39:48.810163+00:00',\n",
       " '2019-01-26T19:39:49.810188+00:00',\n",
       " '2019-01-26T19:39:50.810752+00:00',\n",
       " '2019-01-26T19:39:51.810620+00:00',\n",
       " '2019-01-26T19:39:52.810329+00:00',\n",
       " '2019-01-26T19:39:53.813273+00:00',\n",
       " ...]"
      ]
     },
     "execution_count": 22,
     "metadata": {},
     "output_type": "execute_result"
    }
   ],
   "source": [
    "#duration in seconds. \n",
    "tcx.time_values()"
   ]
  },
  {
   "cell_type": "code",
   "execution_count": 57,
   "metadata": {},
   "outputs": [
    {
     "data": {
      "text/plain": [
       "12916.3291016"
      ]
     },
     "execution_count": 57,
     "metadata": {},
     "output_type": "execute_result"
    }
   ],
   "source": [
    "import matplotlib.pyplot as plt\n",
    "%matplotlib inline\n",
    "#plt.plot(tcx.altitude_points())\n",
    "tcx.distance"
   ]
  },
  {
   "cell_type": "code",
   "execution_count": 3,
   "metadata": {},
   "outputs": [
    {
     "data": {
      "text/plain": [
       "56.5"
      ]
     },
     "execution_count": 3,
     "metadata": {},
     "output_type": "execute_result"
    }
   ],
   "source": [
    "3390 / 60"
   ]
  },
  {
   "cell_type": "code",
   "execution_count": 15,
   "metadata": {},
   "outputs": [
    {
     "data": {
      "text/plain": [
       "['2019-01-26T19:23:14+00:00',\n",
       " <Element {http://www.garmin.com/xmlschemas/TrainingCenterDatabase/v2}Lap at 0x112a92e88>]"
      ]
     },
     "execution_count": 15,
     "metadata": {},
     "output_type": "execute_result"
    }
   ],
   "source": [
    "#spot check passes. This is true!\n",
    "\n",
    "\n",
    "tcx.activity.getchildren()"
   ]
  },
  {
   "cell_type": "code",
   "execution_count": null,
   "metadata": {},
   "outputs": [],
   "source": [
    "root = tree.getroot()\n"
   ]
  },
  {
   "cell_type": "code",
   "execution_count": null,
   "metadata": {},
   "outputs": [],
   "source": [
    "root.findtext()"
   ]
  },
  {
   "cell_type": "code",
   "execution_count": null,
   "metadata": {},
   "outputs": [],
   "source": [
    "for child in tree:\n",
    "    print(child.tag, child.attrib)"
   ]
  },
  {
   "cell_type": "code",
   "execution_count": null,
   "metadata": {},
   "outputs": [],
   "source": [
    "root.tag"
   ]
  },
  {
   "cell_type": "code",
   "execution_count": null,
   "metadata": {},
   "outputs": [],
   "source": [
    "root.getchildren()"
   ]
  },
  {
   "cell_type": "code",
   "execution_count": null,
   "metadata": {},
   "outputs": [],
   "source": [
    "tree.findtext"
   ]
  },
  {
   "cell_type": "code",
   "execution_count": null,
   "metadata": {},
   "outputs": [],
   "source": [
    "import untangle\n",
    "obj = untangle.parse('8.03mi Run.tcx')"
   ]
  },
  {
   "cell_type": "code",
   "execution_count": null,
   "metadata": {
    "collapsed": true
   },
   "outputs": [],
   "source": [
    "from bs4 import BeautifulSoup"
   ]
  },
  {
   "cell_type": "code",
   "execution_count": null,
   "metadata": {},
   "outputs": [],
   "source": []
  },
  {
   "cell_type": "code",
   "execution_count": null,
   "metadata": {},
   "outputs": [],
   "source": [
    "/Users/noahkasmanoff/anaconda/lib/python3.6/site-packages/bs4/__init__.py:219: UserWarning: \"b'8.03mi Run.tcx'\" looks like a filename, not markup. You shouldprobably open this file and pass the filehandle intoBeautiful Soup.\n"
   ]
  },
  {
   "cell_type": "code",
   "execution_count": null,
   "metadata": {
    "collapsed": true
   },
   "outputs": [],
   "source": [
    "import os, csv\n",
    "import lxml.etree as ET\n",
    "\n",
    "# SET DIRECTORY\n",
    "#cd = os.path.dirname(os.path.abspath(__file__))\n",
    "\n",
    "# LOAD XML FILE\n",
    "xmlfile = 'trackXML.xml'\n",
    "dom = ET.parse(os.path.join(cd, xmlfile))\n",
    "\n",
    "# DEFINING COLUMNS\n",
    "columns = ['latitude', 'longitude', 'altitude', 'distance', 'watts']\n",
    "\n",
    "# OPEN CSV FILE\n",
    "with open(os.path.join(cd,'trackData.csv'), 'w') as m:\n",
    "    writer = csv.writer(m)    \n",
    "    writer.writerow(columns)\n",
    "\n",
    "    nodexpath = dom.xpath('//Trackpoint')\n",
    "\n",
    "    dataline = []   # FOR ONE-ROW CSV APPENDS\n",
    "    datalines = []  # FOR FINAL OUTPUT \n",
    "    for j in range(1,len(nodexpath)+1):        \n",
    "        dataline = []\n",
    "\n",
    "        # LOCATE PATH OF EACH NODE VALUE\n",
    "        latitudexpath = dom.xpath('//Trackpoint[{0}]/Position/LatitudeDegrees/text()'.format(j))\n",
    "        dataline.append('') if latitudexpath == [] else dataline.append(latitudexpath[0])\n",
    "\n",
    "        longitudexpath = dom.xpath('//Trackpoint[{0}]/Position/LongitudeDegrees/text()'.format(j))\n",
    "        dataline.append('') if longitudexpath == [] else dataline.append(longitudexpath[0])\n",
    "\n",
    "        altitudexpath = dom.xpath('//Trackpoint[{0}]/AltitudeMeters/text()'.format(j))\n",
    "        dataline.append('') if altitudexpath == [] else dataline.append(altitudexpath[0])\n",
    "\n",
    "        distancexpath = dom.xpath('//Trackpoint[{0}]/DistanceMeters/text()'.format(j))\n",
    "        dataline.append('') if distancexpath == [] else dataline.append(distancexpath[0])\n",
    "\n",
    "        wattsxpath = dom.xpath(\"//Trackpoint[{0}]/*[name()='Extensions']/*[name()='TPX']/*[name()='Watts']/text()\".format(j))\n",
    "        dataline.append('') if wattsxpath == [] else dataline.append(wattsxpath[0])\n",
    "\n",
    "        datalines.append(dataline)\n",
    "        writer.writerow(dataline)\n",
    "\n",
    "print(datalines)"
   ]
  }
 ],
 "metadata": {
  "kernelspec": {
   "display_name": "Python 3",
   "language": "python",
   "name": "python3"
  },
  "language_info": {
   "codemirror_mode": {
    "name": "ipython",
    "version": 3
   },
   "file_extension": ".py",
   "mimetype": "text/x-python",
   "name": "python",
   "nbconvert_exporter": "python",
   "pygments_lexer": "ipython3",
   "version": "3.6.1"
  }
 },
 "nbformat": 4,
 "nbformat_minor": 2
}
