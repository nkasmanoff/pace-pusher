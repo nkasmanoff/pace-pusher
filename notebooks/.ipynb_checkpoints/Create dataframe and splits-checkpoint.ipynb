{
 "cells": [
  {
   "cell_type": "markdown",
   "metadata": {},
   "source": [
    "Contained in this notebook is the individual analysis of one tcx file, and how to obtain the split paces, over a given distance (would need to pay for the MVP subscription to do this alternatively :-) ) "
   ]
  },
  {
   "cell_type": "code",
   "execution_count": 2,
   "metadata": {
    "collapsed": true
   },
   "outputs": [],
   "source": [
    "import pandas as pd\n",
    "import numpy as np\n",
    "import xml.etree.ElementTree as ET\n",
    "import matplotlib.pyplot as plt\n",
    "plt.style.use('fivethirtyeight')\n",
    "%matplotlib inline\n",
    "\n",
    "tree = ET.parse('../data/8.03mi Run.tcx')"
   ]
  },
  {
   "cell_type": "code",
   "execution_count": 19,
   "metadata": {
    "collapsed": true
   },
   "outputs": [],
   "source": [
    "def parse_run_file(tcx,plots=True):\n",
    "    \"\"\"Parse the race file for useful split information, as well as potentially valuable plots. \n",
    "    \n",
    "    \n",
    "    Parameters\n",
    "    ----------\n",
    "    \n",
    "    tcx : str\n",
    "        The path to the tcx file to be parsed. \n",
    "        \n",
    "        \n",
    "    Returns\n",
    "    -------\n",
    "    \n",
    "    \n",
    "    \"\"\"\n",
    "    \n",
    "    #import dependencies and plotting preferences. \n",
    "    \n",
    "    import pandas as pd\n",
    "    import numpy as np\n",
    "    import xml.etree.ElementTree as ET\n",
    "    import matplotlib.pyplot as plt\n",
    "    plt.style.use('fivethirtyeight')\n",
    "    %matplotlib inline\n",
    "\n",
    "    #bring in tcx file.. note it is in an xml format, so this had to be searched a little before\n",
    "    #I found the useful information. \n",
    "    tree = ET.parse(tcx)\n",
    "    root = tree.getroot()\n",
    "    #travel down the tree to get the distance measurements. \n",
    "    activity = root.getchildren()[0]\n",
    "    try:\n",
    "        measures = activity.getchildren()[0].getchildren()[1].getchildren()[4].getchildren()[1:]\n",
    "    except:\n",
    "        print(\"Are you sure you didn't do this workout on a treadmill? No tracking information available.\")\n",
    "        return\n",
    "    measures[1].getchildren()[0].text\n",
    "    distances = []\n",
    "    times = []\n",
    "    for i,point in enumerate(measures):\n",
    "        if len(point.getchildren()) == 4:\n",
    "            dist = point.getchildren()[-1]\n",
    "            distances.append(float(dist.text))\n",
    "            times.append(point.getchildren()[0].text)\n",
    "            \n",
    "    #create a dataframe for this run, and generate a useful time series. \n",
    "    time_df = pd.DataFrame([])\n",
    "    time_df['Time'] = times\n",
    "    time_df['Time'] = time_df.Time.str.split('T',expand = True)[1]\n",
    "    time_df['Time'] = time_df['Time'].str.split('+',expand=True)[0]\n",
    "    time_df = time_df['Time'].str.split(':',expand=True)\n",
    "    time_df = time_df.astype('float')\n",
    "    time_df['Time Elapsed'] = time_df[0]*3600 + time_df[1]*60 + time_df[2]\n",
    "    time_df['Time Elapsed'] = time_df['Time Elapsed'] -time_df['Time Elapsed'].values[0]\n",
    "    del time_df[0],time_df[1],time_df[2]\n",
    "    time_df['distance_meters'] = distances\n",
    "    \n",
    "    if plots:\n",
    "        plt.figure()\n",
    "        plt.title('Distance vs. Time')\n",
    "        plt.xlabel('Time Elapsed (s)')\n",
    "        plt.ylabel('Distance (m)')\n",
    "        plt.plot(time_df['Time Elapsed'], time_df['distance_meters'])\n",
    "    #create column for miles travelled. \n",
    "    time_df['distance_miles'] = time_df['distance_meters'] / 1609.344\n",
    "    #round off values. \n",
    "    time_df['distance_miles'] = [(\"%.1f\" % a) for a in time_df['distance_miles'].values]\n",
    "    time_df['Time Elapsed'] = [(\"%.1f\" % a) for a in time_df['Time Elapsed'].values]\n",
    "\n",
    "    #now get pace information\n",
    "    pace_data = pd.concat([g.tail(n=1) for _,g in time_df.groupby('distance_miles')])\n",
    "    \n",
    "    split_paces = []\n",
    "    for i,_ in enumerate(pace_data['Time Elapsed'].values):\n",
    "        if i < (len(pace_data)-1):\n",
    "            time_elapsed = (float(pace_data['Time Elapsed'].values[i+1])\n",
    "                            - float(pace_data\n",
    "                                    ['Time Elapsed'].values[i]))\n",
    "                \n",
    "            sec_per_mile = 10 * time_elapsed\n",
    "            min_per_mile = sec_per_mile/60\n",
    "            split_paces.append(min_per_mile)\n",
    "        else:\n",
    "            split_paces.append(None)\n",
    "    \n",
    "    pace_data['min per mile split'] = split_paces \n",
    "    pace_data['rolling_mean_splits'] = pace_data['min per mile split'].rolling(window=5).mean()\n",
    "\n",
    "    if plots: \n",
    "        plt.figure()\n",
    "        plt.title('Split Pace vs. Time Elapsed')\n",
    "        plt.xlabel('Time Elapsed (s)')\n",
    "        plt.ylabel('Pace (min/mi)')\n",
    "        plt.ylim((20,0))\n",
    "        plt.plot(pace_data['Time Elapsed'],pace_data['min per mile split'],label='.1 mile splits')\n",
    "        plt.plot(pace_data['Time Elapsed'],pace_data['rolling_mean_splits'],label='.5 mile avg') #half mile rolling mean. \n",
    "        plt.legend()\n",
    "\n",
    "    return pace_data\n"
   ]
  },
  {
   "cell_type": "code",
   "execution_count": 20,
   "metadata": {},
   "outputs": [
    {
     "name": "stdout",
     "output_type": "stream",
     "text": [
      "Are you sure you didn't do this workout on a treadmill? No tracking information available.\n"
     ]
    }
   ],
   "source": [
    "parse_run_file('../data/3.50mi Run.tcx')"
   ]
  },
  {
   "cell_type": "code",
   "execution_count": 13,
   "metadata": {},
   "outputs": [
    {
     "name": "stdout",
     "output_type": "stream",
     "text": [
      "> \u001b[0;32m<ipython-input-8-b9ab9577bcd5>\u001b[0m(33)\u001b[0;36mparse_run_file\u001b[0;34m()\u001b[0m\n",
      "\u001b[0;32m     31 \u001b[0;31m    \u001b[0;31m#travel down the tree to get the distance measurements.\u001b[0m\u001b[0;34m\u001b[0m\u001b[0;34m\u001b[0m\u001b[0m\n",
      "\u001b[0m\u001b[0;32m     32 \u001b[0;31m    \u001b[0mactivity\u001b[0m \u001b[0;34m=\u001b[0m \u001b[0mroot\u001b[0m\u001b[0;34m.\u001b[0m\u001b[0mgetchildren\u001b[0m\u001b[0;34m(\u001b[0m\u001b[0;34m)\u001b[0m\u001b[0;34m[\u001b[0m\u001b[0;36m0\u001b[0m\u001b[0;34m]\u001b[0m\u001b[0;34m\u001b[0m\u001b[0m\n",
      "\u001b[0m\u001b[0;32m---> 33 \u001b[0;31m    \u001b[0mmeasures\u001b[0m \u001b[0;34m=\u001b[0m \u001b[0mactivity\u001b[0m\u001b[0;34m.\u001b[0m\u001b[0mgetchildren\u001b[0m\u001b[0;34m(\u001b[0m\u001b[0;34m)\u001b[0m\u001b[0;34m[\u001b[0m\u001b[0;36m0\u001b[0m\u001b[0;34m]\u001b[0m\u001b[0;34m.\u001b[0m\u001b[0mgetchildren\u001b[0m\u001b[0;34m(\u001b[0m\u001b[0;34m)\u001b[0m\u001b[0;34m[\u001b[0m\u001b[0;36m1\u001b[0m\u001b[0;34m]\u001b[0m\u001b[0;34m.\u001b[0m\u001b[0mgetchildren\u001b[0m\u001b[0;34m(\u001b[0m\u001b[0;34m)\u001b[0m\u001b[0;34m[\u001b[0m\u001b[0;36m4\u001b[0m\u001b[0;34m]\u001b[0m\u001b[0;34m.\u001b[0m\u001b[0mgetchildren\u001b[0m\u001b[0;34m(\u001b[0m\u001b[0;34m)\u001b[0m\u001b[0;34m[\u001b[0m\u001b[0;36m1\u001b[0m\u001b[0;34m:\u001b[0m\u001b[0;34m]\u001b[0m\u001b[0;34m\u001b[0m\u001b[0m\n",
      "\u001b[0m\u001b[0;32m     34 \u001b[0;31m    \u001b[0mmeasures\u001b[0m\u001b[0;34m[\u001b[0m\u001b[0;36m1\u001b[0m\u001b[0;34m]\u001b[0m\u001b[0;34m.\u001b[0m\u001b[0mgetchildren\u001b[0m\u001b[0;34m(\u001b[0m\u001b[0;34m)\u001b[0m\u001b[0;34m[\u001b[0m\u001b[0;36m0\u001b[0m\u001b[0;34m]\u001b[0m\u001b[0;34m.\u001b[0m\u001b[0mtext\u001b[0m\u001b[0;34m\u001b[0m\u001b[0m\n",
      "\u001b[0m\u001b[0;32m     35 \u001b[0;31m    \u001b[0mdistances\u001b[0m \u001b[0;34m=\u001b[0m \u001b[0;34m[\u001b[0m\u001b[0;34m]\u001b[0m\u001b[0;34m\u001b[0m\u001b[0m\n",
      "\u001b[0m\n",
      "ipdb> measures\n",
      "*** NameError: name 'measures' is not defined\n",
      "ipdb> activity\n",
      "<Element '{http://www.garmin.com/xmlschemas/TrainingCenterDatabase/v2}Activities' at 0x11408abd8>\n",
      "ipdb> activity.getchildren(\n",
      "*** SyntaxError: unexpected EOF while parsing\n",
      "ipdb> activity.getchildren()\n",
      "[<Element '{http://www.garmin.com/xmlschemas/TrainingCenterDatabase/v2}Activity' at 0x113320cc8>]\n",
      "ipdb> exit\n"
     ]
    }
   ],
   "source": []
  },
  {
   "cell_type": "code",
   "execution_count": null,
   "metadata": {
    "collapsed": true
   },
   "outputs": [],
   "source": [
    "#travel down the tree to get the distance measurements. \n",
    "activity = root.getchildren()[0]\n",
    "measures = activity.getchildren()[0].getchildren()[1].getchildren()[4].getchildren()[1:]\n",
    "measures[1].getchildren()[0].text\n",
    "distances = []\n",
    "times = []\n",
    "for i,point in enumerate(measures):\n",
    "    if len(point.getchildren()) == 4:\n",
    "        dist = point.getchildren()[-1]\n",
    "        distances.append(float(dist.text))\n",
    "        times.append(point.getchildren()[0].text)"
   ]
  },
  {
   "cell_type": "code",
   "execution_count": null,
   "metadata": {
    "collapsed": true
   },
   "outputs": [],
   "source": [
    "#create a dataframe for this run\n",
    "time_df = pd.DataFrame([])\n",
    "time_df['Time'] = times\n",
    "time_df['Time'] = time_df.Time.str.split('T',expand = True)[1]\n",
    "time_df['Time'] = time_df['Time'].str.split('+',expand=True)[0]\n",
    "time_df = time_df['Time'].str.split(':',expand=True)\n",
    "time_df = time_df.astype('float')\n",
    "time_df['Time Elapsed'] = time_df[0]*3600 + time_df[1]*60 + time_df[2]\n",
    "time_df['Time Elapsed'] = time_df['Time Elapsed'] -time_df['Time Elapsed'].values[0]\n",
    "del time_df[0],time_df[1],time_df[2]\n",
    "time_df['distance_meters'] = distances"
   ]
  },
  {
   "cell_type": "code",
   "execution_count": null,
   "metadata": {
    "collapsed": true
   },
   "outputs": [],
   "source": [
    "#create column for miles travelled. \n",
    "time_df['distance_miles'] = time_df['distance_meters'] / 1609.344"
   ]
  },
  {
   "cell_type": "markdown",
   "metadata": {},
   "source": [
    "Now I would like to calculate my split pace for every .1 miles.\n",
    "\n"
   ]
  },
  {
   "cell_type": "code",
   "execution_count": null,
   "metadata": {
    "collapsed": true
   },
   "outputs": [],
   "source": [
    "time_df['distance_miles'] = [(\"%.1f\" % a) for a in time_df['distance_miles'].values]\n",
    "time_df['Time Elapsed'] = [(\"%.1f\" % a) for a in time_df['Time Elapsed'].values]"
   ]
  },
  {
   "cell_type": "code",
   "execution_count": null,
   "metadata": {
    "collapsed": true
   },
   "outputs": [],
   "source": [
    "pace_data = pd.concat([g.tail(n=1) for _,g in time_df.groupby('distance_miles')])"
   ]
  },
  {
   "cell_type": "code",
   "execution_count": null,
   "metadata": {},
   "outputs": [],
   "source": [
    "pace_data"
   ]
  },
  {
   "cell_type": "code",
   "execution_count": null,
   "metadata": {
    "collapsed": true
   },
   "outputs": [],
   "source": [
    "split_paces = []\n",
    "for i,_ in enumerate(pace_data['Time Elapsed'].values):\n",
    "    if i < (len(pace_data)-1):\n",
    "        time_elapsed = (float(pace_data['Time Elapsed'].values[i+1])\n",
    "                            - float(pace_data\n",
    "                                    ['Time Elapsed'].values[i]))\n",
    "        \n",
    "        dist = .1\n",
    "        \n",
    "        sec_per_mile = 10 * time_elapsed\n",
    "        min_per_mile = sec_per_mile/60\n",
    "        split_paces.append(min_per_mile)\n",
    "    else:\n",
    "        split_paces.append(None)"
   ]
  },
  {
   "cell_type": "code",
   "execution_count": null,
   "metadata": {
    "collapsed": true
   },
   "outputs": [],
   "source": [
    "pace_data['min per mile split'] = split_paces "
   ]
  },
  {
   "cell_type": "code",
   "execution_count": null,
   "metadata": {},
   "outputs": [],
   "source": [
    "plt.title('Split Pace vs. Time Elapsed')\n",
    "plt.ylim((20,0))\n",
    "plt.plot(pace_data['Time Elapsed'],pace_data['min per mile split'])\n",
    "plt.plot(pace_data['Time Elapsed'],pace_data['min per mile split'].rolling(window=5).mean()) #half mile rolling mean. \n"
   ]
  },
  {
   "cell_type": "code",
   "execution_count": null,
   "metadata": {},
   "outputs": [],
   "source": [
    "plt.ylim((20,0))\n",
    "\n",
    "plt.plot(pace_data['Time Elapsed'],pace_data['min per mile split'].rolling(window=5).mean()) #half mile rolling mean. \n",
    "\n"
   ]
  },
  {
   "cell_type": "code",
   "execution_count": null,
   "metadata": {
    "collapsed": true
   },
   "outputs": [],
   "source": [
    "for child in activity:\n",
    "    print('   ',child.attrib)"
   ]
  },
  {
   "cell_type": "code",
   "execution_count": null,
   "metadata": {
    "collapsed": true
   },
   "outputs": [],
   "source": [
    "import tcxparser\n",
    "tcx = tcxparser.TCXParser('8.03mi Run.tcx')"
   ]
  },
  {
   "cell_type": "code",
   "execution_count": null,
   "metadata": {
    "collapsed": true
   },
   "outputs": [],
   "source": [
    "txc"
   ]
  },
  {
   "cell_type": "code",
   "execution_count": null,
   "metadata": {
    "collapsed": true
   },
   "outputs": [],
   "source": [
    "#duration in seconds. \n",
    "tcx.time_values()"
   ]
  },
  {
   "cell_type": "code",
   "execution_count": null,
   "metadata": {
    "collapsed": true
   },
   "outputs": [],
   "source": [
    "import matplotlib.pyplot as plt\n",
    "%matplotlib inline\n",
    "#plt.plot(tcx.altitude_points())\n",
    "tcx.distance"
   ]
  },
  {
   "cell_type": "code",
   "execution_count": null,
   "metadata": {
    "collapsed": true
   },
   "outputs": [],
   "source": [
    "3390 / 60"
   ]
  },
  {
   "cell_type": "code",
   "execution_count": null,
   "metadata": {
    "collapsed": true
   },
   "outputs": [],
   "source": [
    "#spot check passes. This is true!\n",
    "\n",
    "\n",
    "tcx.activity.getchildren()"
   ]
  },
  {
   "cell_type": "code",
   "execution_count": null,
   "metadata": {
    "collapsed": true
   },
   "outputs": [],
   "source": [
    "root = tree.getroot()\n"
   ]
  },
  {
   "cell_type": "code",
   "execution_count": null,
   "metadata": {
    "collapsed": true
   },
   "outputs": [],
   "source": [
    "root.findtext()"
   ]
  },
  {
   "cell_type": "code",
   "execution_count": null,
   "metadata": {
    "collapsed": true
   },
   "outputs": [],
   "source": [
    "for child in tree:\n",
    "    print(child.tag, child.attrib)"
   ]
  },
  {
   "cell_type": "code",
   "execution_count": null,
   "metadata": {
    "collapsed": true
   },
   "outputs": [],
   "source": [
    "root.tag"
   ]
  },
  {
   "cell_type": "code",
   "execution_count": null,
   "metadata": {
    "collapsed": true
   },
   "outputs": [],
   "source": [
    "root.getchildren()"
   ]
  },
  {
   "cell_type": "code",
   "execution_count": null,
   "metadata": {
    "collapsed": true
   },
   "outputs": [],
   "source": [
    "tree.findtext"
   ]
  },
  {
   "cell_type": "code",
   "execution_count": null,
   "metadata": {
    "collapsed": true
   },
   "outputs": [],
   "source": [
    "import untangle\n",
    "obj = untangle.parse('8.03mi Run.tcx')"
   ]
  },
  {
   "cell_type": "code",
   "execution_count": null,
   "metadata": {
    "collapsed": true
   },
   "outputs": [],
   "source": [
    "from bs4 import BeautifulSoup"
   ]
  },
  {
   "cell_type": "code",
   "execution_count": null,
   "metadata": {
    "collapsed": true
   },
   "outputs": [],
   "source": []
  },
  {
   "cell_type": "code",
   "execution_count": null,
   "metadata": {
    "collapsed": true
   },
   "outputs": [],
   "source": [
    "/Users/noahkasmanoff/anaconda/lib/python3.6/site-packages/bs4/__init__.py:219: UserWarning: \"b'8.03mi Run.tcx'\" looks like a filename, not markup. You shouldprobably open this file and pass the filehandle intoBeautiful Soup.\n"
   ]
  },
  {
   "cell_type": "code",
   "execution_count": null,
   "metadata": {
    "collapsed": true
   },
   "outputs": [],
   "source": [
    "import os, csv\n",
    "import lxml.etree as ET\n",
    "\n",
    "# SET DIRECTORY\n",
    "#cd = os.path.dirname(os.path.abspath(__file__))\n",
    "\n",
    "# LOAD XML FILE\n",
    "xmlfile = 'trackXML.xml'\n",
    "dom = ET.parse(os.path.join(cd, xmlfile))\n",
    "\n",
    "# DEFINING COLUMNS\n",
    "columns = ['latitude', 'longitude', 'altitude', 'distance', 'watts']\n",
    "\n",
    "# OPEN CSV FILE\n",
    "with open(os.path.join(cd,'trackData.csv'), 'w') as m:\n",
    "    writer = csv.writer(m)    \n",
    "    writer.writerow(columns)\n",
    "\n",
    "    nodexpath = dom.xpath('//Trackpoint')\n",
    "\n",
    "    dataline = []   # FOR ONE-ROW CSV APPENDS\n",
    "    datalines = []  # FOR FINAL OUTPUT \n",
    "    for j in range(1,len(nodexpath)+1):        \n",
    "        dataline = []\n",
    "\n",
    "        # LOCATE PATH OF EACH NODE VALUE\n",
    "        latitudexpath = dom.xpath('//Trackpoint[{0}]/Position/LatitudeDegrees/text()'.format(j))\n",
    "        dataline.append('') if latitudexpath == [] else dataline.append(latitudexpath[0])\n",
    "\n",
    "        longitudexpath = dom.xpath('//Trackpoint[{0}]/Position/LongitudeDegrees/text()'.format(j))\n",
    "        dataline.append('') if longitudexpath == [] else dataline.append(longitudexpath[0])\n",
    "\n",
    "        altitudexpath = dom.xpath('//Trackpoint[{0}]/AltitudeMeters/text()'.format(j))\n",
    "        dataline.append('') if altitudexpath == [] else dataline.append(altitudexpath[0])\n",
    "\n",
    "        distancexpath = dom.xpath('//Trackpoint[{0}]/DistanceMeters/text()'.format(j))\n",
    "        dataline.append('') if distancexpath == [] else dataline.append(distancexpath[0])\n",
    "\n",
    "        wattsxpath = dom.xpath(\"//Trackpoint[{0}]/*[name()='Extensions']/*[name()='TPX']/*[name()='Watts']/text()\".format(j))\n",
    "        dataline.append('') if wattsxpath == [] else dataline.append(wattsxpath[0])\n",
    "\n",
    "        datalines.append(dataline)\n",
    "        writer.writerow(dataline)\n",
    "\n",
    "print(datalines)"
   ]
  }
 ],
 "metadata": {
  "kernelspec": {
   "display_name": "Python 3",
   "language": "python",
   "name": "python3"
  },
  "language_info": {
   "codemirror_mode": {
    "name": "ipython",
    "version": 3
   },
   "file_extension": ".py",
   "mimetype": "text/x-python",
   "name": "python",
   "nbconvert_exporter": "python",
   "pygments_lexer": "ipython3",
   "version": "3.6.1"
  }
 },
 "nbformat": 4,
 "nbformat_minor": 2
}
