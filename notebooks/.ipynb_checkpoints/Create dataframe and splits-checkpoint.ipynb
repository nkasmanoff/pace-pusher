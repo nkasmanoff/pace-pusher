{
 "cells": [
  {
   "cell_type": "markdown",
   "metadata": {},
   "source": [
    "Contained in this notebook is the individual analysis of one tcx file, and how to obtain the split paces, over a given distance (would need to pay for the MVP subscription to do this alternatively :-) ) "
   ]
  },
  {
   "cell_type": "code",
   "execution_count": 1,
   "metadata": {},
   "outputs": [],
   "source": [
    "import pandas as pd\n",
    "import numpy as np\n",
    "import xml.etree.ElementTree as ET\n",
    "import matplotlib.pyplot as plt\n",
    "plt.style.use('fivethirtyeight')\n",
    "%matplotlib inline\n",
    "\n",
    "tree = ET.parse('../data/8.03mi Run.tcx')"
   ]
  },
  {
   "cell_type": "code",
   "execution_count": 2,
   "metadata": {
    "collapsed": true
   },
   "outputs": [],
   "source": [
    "root = tree.getroot()\n"
   ]
  },
  {
   "cell_type": "code",
   "execution_count": 3,
   "metadata": {
    "collapsed": true
   },
   "outputs": [],
   "source": [
    "#travel down the tree to get the distance measurements. \n",
    "activity = root.getchildren()[0]\n",
    "measures = activity.getchildren()[0].getchildren()[1].getchildren()[4].getchildren()[1:]\n",
    "measures[1].getchildren()[0].text\n",
    "distances = []\n",
    "times = []\n",
    "for i,point in enumerate(measures):\n",
    "    if len(point.getchildren()) == 4:\n",
    "        dist = point.getchildren()[-1]\n",
    "        distances.append(float(dist.text))\n",
    "        times.append(point.getchildren()[0].text)"
   ]
  },
  {
   "cell_type": "code",
   "execution_count": 4,
   "metadata": {
    "collapsed": true
   },
   "outputs": [],
   "source": [
    "#create a dataframe for this run\n",
    "time_df = pd.DataFrame([])\n",
    "time_df['Time'] = times\n",
    "time_df['Time'] = time_df.Time.str.split('T',expand = True)[1]\n",
    "time_df['Time'] = time_df['Time'].str.split('+',expand=True)[0]\n",
    "time_df = time_df['Time'].str.split(':',expand=True)\n",
    "time_df = time_df.astype('float')\n",
    "time_df['Time Elapsed'] = time_df[0]*3600 + time_df[1]*60 + time_df[2]\n",
    "time_df['Time Elapsed'] = time_df['Time Elapsed'] -time_df['Time Elapsed'].values[0]\n",
    "del time_df[0],time_df[1],time_df[2]\n",
    "time_df['distance_meters'] = distances"
   ]
  },
  {
   "cell_type": "code",
   "execution_count": 5,
   "metadata": {},
   "outputs": [],
   "source": [
    "#create column for miles travelled. \n",
    "time_df['distance_miles'] = time_df['distance_meters'] / 1609.344"
   ]
  },
  {
   "cell_type": "markdown",
   "metadata": {},
   "source": [
    "Now I would like to calculate my split pace for every .1 miles.\n",
    "\n"
   ]
  },
  {
   "cell_type": "code",
   "execution_count": 6,
   "metadata": {},
   "outputs": [],
   "source": [
    "time_df['distance_miles'] = [(\"%.1f\" % a) for a in time_df['distance_miles'].values]\n",
    "time_df['Time Elapsed'] = [(\"%.1f\" % a) for a in time_df['Time Elapsed'].values]"
   ]
  },
  {
   "cell_type": "code",
   "execution_count": 8,
   "metadata": {},
   "outputs": [],
   "source": [
    "pace_data = pd.concat([g.tail(n=1) for _,g in time_df.groupby('distance_miles')])"
   ]
  },
  {
   "cell_type": "code",
   "execution_count": 10,
   "metadata": {},
   "outputs": [
    {
     "data": {
      "text/html": [
       "<div>\n",
       "<style scoped>\n",
       "    .dataframe tbody tr th:only-of-type {\n",
       "        vertical-align: middle;\n",
       "    }\n",
       "\n",
       "    .dataframe tbody tr th {\n",
       "        vertical-align: top;\n",
       "    }\n",
       "\n",
       "    .dataframe thead th {\n",
       "        text-align: right;\n",
       "    }\n",
       "</style>\n",
       "<table border=\"1\" class=\"dataframe\">\n",
       "  <thead>\n",
       "    <tr style=\"text-align: right;\">\n",
       "      <th></th>\n",
       "      <th>Time Elapsed</th>\n",
       "      <th>distance_meters</th>\n",
       "      <th>distance_miles</th>\n",
       "    </tr>\n",
       "  </thead>\n",
       "  <tbody>\n",
       "    <tr>\n",
       "      <th>20</th>\n",
       "      <td>20.0</td>\n",
       "      <td>80.384323</td>\n",
       "      <td>0.0</td>\n",
       "    </tr>\n",
       "    <tr>\n",
       "      <th>60</th>\n",
       "      <td>60.0</td>\n",
       "      <td>240.778946</td>\n",
       "      <td>0.1</td>\n",
       "    </tr>\n",
       "    <tr>\n",
       "      <th>102</th>\n",
       "      <td>103.0</td>\n",
       "      <td>398.862335</td>\n",
       "      <td>0.2</td>\n",
       "    </tr>\n",
       "    <tr>\n",
       "      <th>142</th>\n",
       "      <td>144.0</td>\n",
       "      <td>559.346497</td>\n",
       "      <td>0.3</td>\n",
       "    </tr>\n",
       "    <tr>\n",
       "      <th>185</th>\n",
       "      <td>187.0</td>\n",
       "      <td>721.725403</td>\n",
       "      <td>0.4</td>\n",
       "    </tr>\n",
       "    <tr>\n",
       "      <th>227</th>\n",
       "      <td>229.0</td>\n",
       "      <td>884.947632</td>\n",
       "      <td>0.5</td>\n",
       "    </tr>\n",
       "    <tr>\n",
       "      <th>267</th>\n",
       "      <td>269.0</td>\n",
       "      <td>1043.468994</td>\n",
       "      <td>0.6</td>\n",
       "    </tr>\n",
       "    <tr>\n",
       "      <th>312</th>\n",
       "      <td>314.0</td>\n",
       "      <td>1206.419556</td>\n",
       "      <td>0.7</td>\n",
       "    </tr>\n",
       "    <tr>\n",
       "      <th>354</th>\n",
       "      <td>356.0</td>\n",
       "      <td>1365.355591</td>\n",
       "      <td>0.8</td>\n",
       "    </tr>\n",
       "    <tr>\n",
       "      <th>396</th>\n",
       "      <td>398.0</td>\n",
       "      <td>1526.030396</td>\n",
       "      <td>0.9</td>\n",
       "    </tr>\n",
       "    <tr>\n",
       "      <th>435</th>\n",
       "      <td>440.0</td>\n",
       "      <td>1687.734985</td>\n",
       "      <td>1.0</td>\n",
       "    </tr>\n",
       "    <tr>\n",
       "      <th>477</th>\n",
       "      <td>482.1</td>\n",
       "      <td>1848.568115</td>\n",
       "      <td>1.1</td>\n",
       "    </tr>\n",
       "    <tr>\n",
       "      <th>522</th>\n",
       "      <td>527.1</td>\n",
       "      <td>2010.351685</td>\n",
       "      <td>1.2</td>\n",
       "    </tr>\n",
       "    <tr>\n",
       "      <th>567</th>\n",
       "      <td>572.1</td>\n",
       "      <td>2171.878418</td>\n",
       "      <td>1.3</td>\n",
       "    </tr>\n",
       "    <tr>\n",
       "      <th>610</th>\n",
       "      <td>615.1</td>\n",
       "      <td>2330.194580</td>\n",
       "      <td>1.4</td>\n",
       "    </tr>\n",
       "    <tr>\n",
       "      <th>657</th>\n",
       "      <td>662.1</td>\n",
       "      <td>2493.438965</td>\n",
       "      <td>1.5</td>\n",
       "    </tr>\n",
       "    <tr>\n",
       "      <th>701</th>\n",
       "      <td>706.0</td>\n",
       "      <td>2652.796143</td>\n",
       "      <td>1.6</td>\n",
       "    </tr>\n",
       "    <tr>\n",
       "      <th>746</th>\n",
       "      <td>751.1</td>\n",
       "      <td>2813.739502</td>\n",
       "      <td>1.7</td>\n",
       "    </tr>\n",
       "    <tr>\n",
       "      <th>790</th>\n",
       "      <td>796.1</td>\n",
       "      <td>2975.428955</td>\n",
       "      <td>1.8</td>\n",
       "    </tr>\n",
       "    <tr>\n",
       "      <th>836</th>\n",
       "      <td>842.1</td>\n",
       "      <td>3134.701660</td>\n",
       "      <td>1.9</td>\n",
       "    </tr>\n",
       "    <tr>\n",
       "      <th>877</th>\n",
       "      <td>885.0</td>\n",
       "      <td>3298.140137</td>\n",
       "      <td>2.0</td>\n",
       "    </tr>\n",
       "    <tr>\n",
       "      <th>920</th>\n",
       "      <td>928.1</td>\n",
       "      <td>3456.801758</td>\n",
       "      <td>2.1</td>\n",
       "    </tr>\n",
       "    <tr>\n",
       "      <th>962</th>\n",
       "      <td>971.1</td>\n",
       "      <td>3619.807129</td>\n",
       "      <td>2.2</td>\n",
       "    </tr>\n",
       "    <tr>\n",
       "      <th>1009</th>\n",
       "      <td>1025.1</td>\n",
       "      <td>3778.205322</td>\n",
       "      <td>2.3</td>\n",
       "    </tr>\n",
       "    <tr>\n",
       "      <th>1051</th>\n",
       "      <td>1067.1</td>\n",
       "      <td>3939.597412</td>\n",
       "      <td>2.4</td>\n",
       "    </tr>\n",
       "    <tr>\n",
       "      <th>1097</th>\n",
       "      <td>1113.1</td>\n",
       "      <td>4100.688965</td>\n",
       "      <td>2.5</td>\n",
       "    </tr>\n",
       "    <tr>\n",
       "      <th>1140</th>\n",
       "      <td>1157.1</td>\n",
       "      <td>4262.289551</td>\n",
       "      <td>2.6</td>\n",
       "    </tr>\n",
       "    <tr>\n",
       "      <th>1184</th>\n",
       "      <td>1203.6</td>\n",
       "      <td>4424.493164</td>\n",
       "      <td>2.7</td>\n",
       "    </tr>\n",
       "    <tr>\n",
       "      <th>1218</th>\n",
       "      <td>1237.6</td>\n",
       "      <td>4583.818359</td>\n",
       "      <td>2.8</td>\n",
       "    </tr>\n",
       "    <tr>\n",
       "      <th>1257</th>\n",
       "      <td>1276.6</td>\n",
       "      <td>4743.232910</td>\n",
       "      <td>2.9</td>\n",
       "    </tr>\n",
       "    <tr>\n",
       "      <th>...</th>\n",
       "      <td>...</td>\n",
       "      <td>...</td>\n",
       "      <td>...</td>\n",
       "    </tr>\n",
       "    <tr>\n",
       "      <th>2161</th>\n",
       "      <td>2197.7</td>\n",
       "      <td>8287.649414</td>\n",
       "      <td>5.1</td>\n",
       "    </tr>\n",
       "    <tr>\n",
       "      <th>2202</th>\n",
       "      <td>2238.7</td>\n",
       "      <td>8448.935547</td>\n",
       "      <td>5.2</td>\n",
       "    </tr>\n",
       "    <tr>\n",
       "      <th>2245</th>\n",
       "      <td>2281.7</td>\n",
       "      <td>8608.618164</td>\n",
       "      <td>5.3</td>\n",
       "    </tr>\n",
       "    <tr>\n",
       "      <th>2291</th>\n",
       "      <td>2327.7</td>\n",
       "      <td>8769.201172</td>\n",
       "      <td>5.4</td>\n",
       "    </tr>\n",
       "    <tr>\n",
       "      <th>2333</th>\n",
       "      <td>2369.7</td>\n",
       "      <td>8928.033203</td>\n",
       "      <td>5.5</td>\n",
       "    </tr>\n",
       "    <tr>\n",
       "      <th>2371</th>\n",
       "      <td>2429.7</td>\n",
       "      <td>9092.209961</td>\n",
       "      <td>5.6</td>\n",
       "    </tr>\n",
       "    <tr>\n",
       "      <th>2411</th>\n",
       "      <td>2469.7</td>\n",
       "      <td>9250.932617</td>\n",
       "      <td>5.7</td>\n",
       "    </tr>\n",
       "    <tr>\n",
       "      <th>2452</th>\n",
       "      <td>2510.7</td>\n",
       "      <td>9410.692383</td>\n",
       "      <td>5.8</td>\n",
       "    </tr>\n",
       "    <tr>\n",
       "      <th>2493</th>\n",
       "      <td>2551.7</td>\n",
       "      <td>9572.806641</td>\n",
       "      <td>5.9</td>\n",
       "    </tr>\n",
       "    <tr>\n",
       "      <th>2531</th>\n",
       "      <td>2590.6</td>\n",
       "      <td>9732.855469</td>\n",
       "      <td>6.0</td>\n",
       "    </tr>\n",
       "    <tr>\n",
       "      <th>2572</th>\n",
       "      <td>2633.7</td>\n",
       "      <td>9895.520508</td>\n",
       "      <td>6.1</td>\n",
       "    </tr>\n",
       "    <tr>\n",
       "      <th>2615</th>\n",
       "      <td>2676.7</td>\n",
       "      <td>10056.977539</td>\n",
       "      <td>6.2</td>\n",
       "    </tr>\n",
       "    <tr>\n",
       "      <th>2658</th>\n",
       "      <td>2720.7</td>\n",
       "      <td>10218.990234</td>\n",
       "      <td>6.3</td>\n",
       "    </tr>\n",
       "    <tr>\n",
       "      <th>2701</th>\n",
       "      <td>2763.7</td>\n",
       "      <td>10376.520508</td>\n",
       "      <td>6.4</td>\n",
       "    </tr>\n",
       "    <tr>\n",
       "      <th>2743</th>\n",
       "      <td>2805.7</td>\n",
       "      <td>10537.963867</td>\n",
       "      <td>6.5</td>\n",
       "    </tr>\n",
       "    <tr>\n",
       "      <th>2786</th>\n",
       "      <td>2849.7</td>\n",
       "      <td>10699.669922</td>\n",
       "      <td>6.6</td>\n",
       "    </tr>\n",
       "    <tr>\n",
       "      <th>2828</th>\n",
       "      <td>2891.7</td>\n",
       "      <td>10859.702148</td>\n",
       "      <td>6.7</td>\n",
       "    </tr>\n",
       "    <tr>\n",
       "      <th>2876</th>\n",
       "      <td>2939.7</td>\n",
       "      <td>11022.808594</td>\n",
       "      <td>6.8</td>\n",
       "    </tr>\n",
       "    <tr>\n",
       "      <th>2920</th>\n",
       "      <td>2983.7</td>\n",
       "      <td>11183.267578</td>\n",
       "      <td>6.9</td>\n",
       "    </tr>\n",
       "    <tr>\n",
       "      <th>2962</th>\n",
       "      <td>3026.6</td>\n",
       "      <td>11345.682617</td>\n",
       "      <td>7.0</td>\n",
       "    </tr>\n",
       "    <tr>\n",
       "      <th>3003</th>\n",
       "      <td>3067.7</td>\n",
       "      <td>11505.123047</td>\n",
       "      <td>7.1</td>\n",
       "    </tr>\n",
       "    <tr>\n",
       "      <th>3036</th>\n",
       "      <td>3127.7</td>\n",
       "      <td>11665.526367</td>\n",
       "      <td>7.2</td>\n",
       "    </tr>\n",
       "    <tr>\n",
       "      <th>3081</th>\n",
       "      <td>3172.7</td>\n",
       "      <td>11826.393555</td>\n",
       "      <td>7.3</td>\n",
       "    </tr>\n",
       "    <tr>\n",
       "      <th>3124</th>\n",
       "      <td>3220.4</td>\n",
       "      <td>11976.547852</td>\n",
       "      <td>7.4</td>\n",
       "    </tr>\n",
       "    <tr>\n",
       "      <th>3162</th>\n",
       "      <td>3259.7</td>\n",
       "      <td>12150.543945</td>\n",
       "      <td>7.5</td>\n",
       "    </tr>\n",
       "    <tr>\n",
       "      <th>3202</th>\n",
       "      <td>3299.7</td>\n",
       "      <td>12309.539062</td>\n",
       "      <td>7.6</td>\n",
       "    </tr>\n",
       "    <tr>\n",
       "      <th>3244</th>\n",
       "      <td>3341.7</td>\n",
       "      <td>12469.975586</td>\n",
       "      <td>7.7</td>\n",
       "    </tr>\n",
       "    <tr>\n",
       "      <th>3287</th>\n",
       "      <td>3384.7</td>\n",
       "      <td>12633.188477</td>\n",
       "      <td>7.8</td>\n",
       "    </tr>\n",
       "    <tr>\n",
       "      <th>3329</th>\n",
       "      <td>3426.7</td>\n",
       "      <td>12790.533203</td>\n",
       "      <td>7.9</td>\n",
       "    </tr>\n",
       "    <tr>\n",
       "      <th>3360</th>\n",
       "      <td>3461.6</td>\n",
       "      <td>12916.329102</td>\n",
       "      <td>8.0</td>\n",
       "    </tr>\n",
       "  </tbody>\n",
       "</table>\n",
       "<p>81 rows × 3 columns</p>\n",
       "</div>"
      ],
      "text/plain": [
       "     Time Elapsed  distance_meters distance_miles\n",
       "20           20.0        80.384323            0.0\n",
       "60           60.0       240.778946            0.1\n",
       "102         103.0       398.862335            0.2\n",
       "142         144.0       559.346497            0.3\n",
       "185         187.0       721.725403            0.4\n",
       "227         229.0       884.947632            0.5\n",
       "267         269.0      1043.468994            0.6\n",
       "312         314.0      1206.419556            0.7\n",
       "354         356.0      1365.355591            0.8\n",
       "396         398.0      1526.030396            0.9\n",
       "435         440.0      1687.734985            1.0\n",
       "477         482.1      1848.568115            1.1\n",
       "522         527.1      2010.351685            1.2\n",
       "567         572.1      2171.878418            1.3\n",
       "610         615.1      2330.194580            1.4\n",
       "657         662.1      2493.438965            1.5\n",
       "701         706.0      2652.796143            1.6\n",
       "746         751.1      2813.739502            1.7\n",
       "790         796.1      2975.428955            1.8\n",
       "836         842.1      3134.701660            1.9\n",
       "877         885.0      3298.140137            2.0\n",
       "920         928.1      3456.801758            2.1\n",
       "962         971.1      3619.807129            2.2\n",
       "1009       1025.1      3778.205322            2.3\n",
       "1051       1067.1      3939.597412            2.4\n",
       "1097       1113.1      4100.688965            2.5\n",
       "1140       1157.1      4262.289551            2.6\n",
       "1184       1203.6      4424.493164            2.7\n",
       "1218       1237.6      4583.818359            2.8\n",
       "1257       1276.6      4743.232910            2.9\n",
       "...           ...              ...            ...\n",
       "2161       2197.7      8287.649414            5.1\n",
       "2202       2238.7      8448.935547            5.2\n",
       "2245       2281.7      8608.618164            5.3\n",
       "2291       2327.7      8769.201172            5.4\n",
       "2333       2369.7      8928.033203            5.5\n",
       "2371       2429.7      9092.209961            5.6\n",
       "2411       2469.7      9250.932617            5.7\n",
       "2452       2510.7      9410.692383            5.8\n",
       "2493       2551.7      9572.806641            5.9\n",
       "2531       2590.6      9732.855469            6.0\n",
       "2572       2633.7      9895.520508            6.1\n",
       "2615       2676.7     10056.977539            6.2\n",
       "2658       2720.7     10218.990234            6.3\n",
       "2701       2763.7     10376.520508            6.4\n",
       "2743       2805.7     10537.963867            6.5\n",
       "2786       2849.7     10699.669922            6.6\n",
       "2828       2891.7     10859.702148            6.7\n",
       "2876       2939.7     11022.808594            6.8\n",
       "2920       2983.7     11183.267578            6.9\n",
       "2962       3026.6     11345.682617            7.0\n",
       "3003       3067.7     11505.123047            7.1\n",
       "3036       3127.7     11665.526367            7.2\n",
       "3081       3172.7     11826.393555            7.3\n",
       "3124       3220.4     11976.547852            7.4\n",
       "3162       3259.7     12150.543945            7.5\n",
       "3202       3299.7     12309.539062            7.6\n",
       "3244       3341.7     12469.975586            7.7\n",
       "3287       3384.7     12633.188477            7.8\n",
       "3329       3426.7     12790.533203            7.9\n",
       "3360       3461.6     12916.329102            8.0\n",
       "\n",
       "[81 rows x 3 columns]"
      ]
     },
     "execution_count": 10,
     "metadata": {},
     "output_type": "execute_result"
    }
   ],
   "source": [
    "pace_data"
   ]
  },
  {
   "cell_type": "code",
   "execution_count": 11,
   "metadata": {},
   "outputs": [],
   "source": [
    "split_paces = []\n",
    "for i,_ in enumerate(pace_data['Time Elapsed'].values):\n",
    "    if i < (len(pace_data)-1):\n",
    "        time_elapsed = (float(pace_data['Time Elapsed'].values[i+1])\n",
    "                            - float(pace_data\n",
    "                                    ['Time Elapsed'].values[i]))\n",
    "        \n",
    "        dist = .1\n",
    "        \n",
    "        sec_per_mile = 10 * time_elapsed\n",
    "        min_per_mile = sec_per_mile/60\n",
    "        split_paces.append(min_per_mile)\n",
    "    else:\n",
    "        split_paces.append(None)"
   ]
  },
  {
   "cell_type": "code",
   "execution_count": 12,
   "metadata": {},
   "outputs": [],
   "source": [
    "pace_data['min per mile split'] = split_paces "
   ]
  },
  {
   "cell_type": "code",
   "execution_count": 27,
   "metadata": {},
   "outputs": [
    {
     "data": {
      "text/plain": [
       "[<matplotlib.lines.Line2D at 0x11e7540b8>]"
      ]
     },
     "execution_count": 27,
     "metadata": {},
     "output_type": "execute_result"
    },
    {
     "data": {
      "image/png": "[encoded data removed]",
      "text/plain": [
       "<matplotlib.figure.Figure at 0x11e754630>"
      ]
     },
     "metadata": {},
     "output_type": "display_data"
    }
   ],
   "source": [
    "plt.title('Split Pace vs. Time Elapsed')\n",
    "plt.ylim((20,0))\n",
    "plt.plot(pace_data['Time Elapsed'],pace_data['min per mile split'])\n",
    "plt.plot(pace_data['Time Elapsed'],pace_data['min per mile split'].rolling(window=5).mean()) #half mile rolling mean. \n"
   ]
  },
  {
   "cell_type": "code",
   "execution_count": 26,
   "metadata": {},
   "outputs": [
    {
     "data": {
      "text/plain": [
       "[<matplotlib.lines.Line2D at 0x11e6bd860>]"
      ]
     },
     "execution_count": 26,
     "metadata": {},
     "output_type": "execute_result"
    },
    {
     "data": {
      "image/png": "[encoded data removed]",
      "text/plain": [
       "<matplotlib.figure.Figure at 0x11e6bd898>"
      ]
     },
     "metadata": {},
     "output_type": "display_data"
    }
   ],
   "source": [
    "plt.ylim((20,0))\n",
    "\n",
    "plt.plot(pace_data['Time Elapsed'],pace_data['min per mile split'].rolling(window=5).mean()) #half mile rolling mean. \n",
    "\n"
   ]
  },
  {
   "cell_type": "code",
   "execution_count": null,
   "metadata": {},
   "outputs": [],
   "source": [
    "for child in activity:\n",
    "    print('   ',child.attrib)"
   ]
  },
  {
   "cell_type": "code",
   "execution_count": null,
   "metadata": {
    "collapsed": true
   },
   "outputs": [],
   "source": [
    "import tcxparser\n",
    "tcx = tcxparser.TCXParser('8.03mi Run.tcx')"
   ]
  },
  {
   "cell_type": "code",
   "execution_count": null,
   "metadata": {
    "collapsed": true
   },
   "outputs": [],
   "source": [
    "txc"
   ]
  },
  {
   "cell_type": "code",
   "execution_count": null,
   "metadata": {},
   "outputs": [],
   "source": [
    "#duration in seconds. \n",
    "tcx.time_values()"
   ]
  },
  {
   "cell_type": "code",
   "execution_count": null,
   "metadata": {},
   "outputs": [],
   "source": [
    "import matplotlib.pyplot as plt\n",
    "%matplotlib inline\n",
    "#plt.plot(tcx.altitude_points())\n",
    "tcx.distance"
   ]
  },
  {
   "cell_type": "code",
   "execution_count": null,
   "metadata": {},
   "outputs": [],
   "source": [
    "3390 / 60"
   ]
  },
  {
   "cell_type": "code",
   "execution_count": null,
   "metadata": {},
   "outputs": [],
   "source": [
    "#spot check passes. This is true!\n",
    "\n",
    "\n",
    "tcx.activity.getchildren()"
   ]
  },
  {
   "cell_type": "code",
   "execution_count": null,
   "metadata": {
    "collapsed": true
   },
   "outputs": [],
   "source": [
    "root = tree.getroot()\n"
   ]
  },
  {
   "cell_type": "code",
   "execution_count": null,
   "metadata": {
    "collapsed": true
   },
   "outputs": [],
   "source": [
    "root.findtext()"
   ]
  },
  {
   "cell_type": "code",
   "execution_count": null,
   "metadata": {
    "collapsed": true
   },
   "outputs": [],
   "source": [
    "for child in tree:\n",
    "    print(child.tag, child.attrib)"
   ]
  },
  {
   "cell_type": "code",
   "execution_count": null,
   "metadata": {
    "collapsed": true
   },
   "outputs": [],
   "source": [
    "root.tag"
   ]
  },
  {
   "cell_type": "code",
   "execution_count": null,
   "metadata": {
    "collapsed": true
   },
   "outputs": [],
   "source": [
    "root.getchildren()"
   ]
  },
  {
   "cell_type": "code",
   "execution_count": null,
   "metadata": {
    "collapsed": true
   },
   "outputs": [],
   "source": [
    "tree.findtext"
   ]
  },
  {
   "cell_type": "code",
   "execution_count": null,
   "metadata": {
    "collapsed": true
   },
   "outputs": [],
   "source": [
    "import untangle\n",
    "obj = untangle.parse('8.03mi Run.tcx')"
   ]
  },
  {
   "cell_type": "code",
   "execution_count": null,
   "metadata": {
    "collapsed": true
   },
   "outputs": [],
   "source": [
    "from bs4 import BeautifulSoup"
   ]
  },
  {
   "cell_type": "code",
   "execution_count": null,
   "metadata": {
    "collapsed": true
   },
   "outputs": [],
   "source": []
  },
  {
   "cell_type": "code",
   "execution_count": null,
   "metadata": {
    "collapsed": true
   },
   "outputs": [],
   "source": [
    "/Users/noahkasmanoff/anaconda/lib/python3.6/site-packages/bs4/__init__.py:219: UserWarning: \"b'8.03mi Run.tcx'\" looks like a filename, not markup. You shouldprobably open this file and pass the filehandle intoBeautiful Soup.\n"
   ]
  },
  {
   "cell_type": "code",
   "execution_count": null,
   "metadata": {
    "collapsed": true
   },
   "outputs": [],
   "source": [
    "import os, csv\n",
    "import lxml.etree as ET\n",
    "\n",
    "# SET DIRECTORY\n",
    "#cd = os.path.dirname(os.path.abspath(__file__))\n",
    "\n",
    "# LOAD XML FILE\n",
    "xmlfile = 'trackXML.xml'\n",
    "dom = ET.parse(os.path.join(cd, xmlfile))\n",
    "\n",
    "# DEFINING COLUMNS\n",
    "columns = ['latitude', 'longitude', 'altitude', 'distance', 'watts']\n",
    "\n",
    "# OPEN CSV FILE\n",
    "with open(os.path.join(cd,'trackData.csv'), 'w') as m:\n",
    "    writer = csv.writer(m)    \n",
    "    writer.writerow(columns)\n",
    "\n",
    "    nodexpath = dom.xpath('//Trackpoint')\n",
    "\n",
    "    dataline = []   # FOR ONE-ROW CSV APPENDS\n",
    "    datalines = []  # FOR FINAL OUTPUT \n",
    "    for j in range(1,len(nodexpath)+1):        \n",
    "        dataline = []\n",
    "\n",
    "        # LOCATE PATH OF EACH NODE VALUE\n",
    "        latitudexpath = dom.xpath('//Trackpoint[{0}]/Position/LatitudeDegrees/text()'.format(j))\n",
    "        dataline.append('') if latitudexpath == [] else dataline.append(latitudexpath[0])\n",
    "\n",
    "        longitudexpath = dom.xpath('//Trackpoint[{0}]/Position/LongitudeDegrees/text()'.format(j))\n",
    "        dataline.append('') if longitudexpath == [] else dataline.append(longitudexpath[0])\n",
    "\n",
    "        altitudexpath = dom.xpath('//Trackpoint[{0}]/AltitudeMeters/text()'.format(j))\n",
    "        dataline.append('') if altitudexpath == [] else dataline.append(altitudexpath[0])\n",
    "\n",
    "        distancexpath = dom.xpath('//Trackpoint[{0}]/DistanceMeters/text()'.format(j))\n",
    "        dataline.append('') if distancexpath == [] else dataline.append(distancexpath[0])\n",
    "\n",
    "        wattsxpath = dom.xpath(\"//Trackpoint[{0}]/*[name()='Extensions']/*[name()='TPX']/*[name()='Watts']/text()\".format(j))\n",
    "        dataline.append('') if wattsxpath == [] else dataline.append(wattsxpath[0])\n",
    "\n",
    "        datalines.append(dataline)\n",
    "        writer.writerow(dataline)\n",
    "\n",
    "print(datalines)"
   ]
  }
 ],
 "metadata": {
  "kernelspec": {
   "display_name": "Python 3",
   "language": "python",
   "name": "python3"
  },
  "language_info": {
   "codemirror_mode": {
    "name": "ipython",
    "version": 3
   },
   "file_extension": ".py",
   "mimetype": "text/x-python",
   "name": "python",
   "nbconvert_exporter": "python",
   "pygments_lexer": "ipython3",
   "version": "3.6.1"
  }
 },
 "nbformat": 4,
 "nbformat_minor": 2
}
