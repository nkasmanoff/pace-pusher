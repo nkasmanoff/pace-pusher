{
 "cells": [
  {
   "cell_type": "code",
   "execution_count": 7,
   "metadata": {
    "collapsed": true
   },
   "outputs": [],
   "source": [
    "from selenium import webdriver\n",
    "from time import sleep\n",
    "from random import randint\n",
    "import pandas as pd\n",
    "from random import choice"
   ]
  },
  {
   "cell_type": "code",
   "execution_count": 1,
   "metadata": {
    "collapsed": true
   },
   "outputs": [],
   "source": [
    "def play_spotify():\n",
    "    \"\"\" Function to play a random, but definitely exciting, spotify song. \n",
    "    \"\"\"\n",
    "    #import dependencies \n",
    "    from selenium import webdriver\n",
    "    from time import sleep\n",
    "    from random import randint\n",
    "    import pandas as pd\n",
    "    from random import choice\n",
    "    \n",
    "    #load in credentials\n",
    "    spotify_info = pd.read_csv('/Users/noahkasmanoff/Desktop/spotify_login.csv',delimiter=',')\n",
    "    \n",
    "    driver = webdriver.Chrome('/Users/noahkasmanoff/Desktop/chromedriver') #open up chrome/spotify\n",
    "    driver.get('https://www.spotify.com/us/')\n",
    "    \n",
    "    \n",
    "    login = driver.find_element_by_xpath('//*[@id=\"header-login-link\"]')\n",
    "    login.click()\n",
    "    #sleep for a sec for the page to load\n",
    "    sleep(randint(3,5))\n",
    "\n",
    "    username = driver.find_element_by_xpath('//*[@id=\"login-username\"]')\n",
    "    username.send_keys(spotify_info['username'].values[0])\n",
    "    pword = driver.find_element_by_xpath('//*[@id=\"login-password\"]')\n",
    "    pword.send_keys(spotify_info['password'].values[0])\n",
    "    login_button = driver.find_element_by_xpath('//*[@id=\"login-button\"]')\n",
    "    login_button.click()\n",
    "    #logged in, now go to page and play song. \n",
    "    \n",
    "    sleep(randint(3,5))\n",
    "    hype_songs = ['https://open.spotify.com/track/1A8j067qyiNwQnZT0bzUpZ',\n",
    "              'https://open.spotify.com/track/6xG2ZGudUgtV235xvDlSEt',\n",
    "              'https://open.spotify.com/track/6DCZcSspjsKoFjzjrWoCdn',\n",
    "              'https://open.spotify.com/track/27LesyIHfMY8mUZt7bv4KP',\n",
    "             'https://open.spotify.com/track/2eOuL8KesslTLQERQPu11D',\n",
    "             'https://open.spotify.com/track/7lQ8MOhq6IN2w8EYcFNSUk']\n",
    "    driver.get(choice(hype_songs)) #play the song\n",
    "    \n",
    "\n",
    "    return \"You good?\""
   ]
  },
  {
   "cell_type": "code",
   "execution_count": 2,
   "metadata": {},
   "outputs": [
    {
     "data": {
      "text/plain": [
       "'You good?'"
      ]
     },
     "execution_count": 2,
     "metadata": {},
     "output_type": "execute_result"
    }
   ],
   "source": [
    "play_spotify()"
   ]
  },
  {
   "cell_type": "code",
   "execution_count": 8,
   "metadata": {
    "collapsed": true
   },
   "outputs": [],
   "source": [
    "spotify_info = pd.read_csv('/Users/noahkasmanoff/Desktop/spotify_login.csv',delimiter=',')"
   ]
  },
  {
   "cell_type": "code",
   "execution_count": 9,
   "metadata": {
    "collapsed": true
   },
   "outputs": [],
   "source": [
    "driver = webdriver.Chrome('/Users/noahkasmanoff/Desktop/chromedriver')\n",
    "\n",
    "driver.get('https://www.spotify.com/us/')"
   ]
  },
  {
   "cell_type": "code",
   "execution_count": 10,
   "metadata": {
    "collapsed": true
   },
   "outputs": [],
   "source": [
    "hype_songs = ['https://open.spotify.com/track/1A8j067qyiNwQnZT0bzUpZ',\n",
    "              'https://open.spotify.com/track/6xG2ZGudUgtV235xvDlSEt',\n",
    "              'https://open.spotify.com/track/6DCZcSspjsKoFjzjrWoCdn',\n",
    "              'https://open.spotify.com/track/27LesyIHfMY8mUZt7bv4KP',\n",
    "             'https://open.spotify.com/track/2eOuL8KesslTLQERQPu11D',\n",
    "             'https://open.spotify.com/track/7lQ8MOhq6IN2w8EYcFNSUk']"
   ]
  },
  {
   "cell_type": "code",
   "execution_count": 11,
   "metadata": {
    "collapsed": true
   },
   "outputs": [],
   "source": [
    "login = driver.find_element_by_xpath('//*[@id=\"header-login-link\"]')\n",
    "login.click()\n",
    "#sleep for a sec for the page to load\n",
    "\n",
    "sleep(randint(3,5))\n",
    "\n",
    "username = driver.find_element_by_xpath('//*[@id=\"login-username\"]')\n",
    "username.send_keys(spotify_info['username'].values[0])\n",
    "pword = driver.find_element_by_xpath('//*[@id=\"login-password\"]')\n",
    "pword.send_keys(spotify_info['password'].values[0])\n",
    "login_button = driver.find_element_by_xpath('//*[@id=\"login-button\"]')\n",
    "login_button.click()\n",
    "#logged in, now go to page and play song. \n",
    "sleep(randint(3,5))\n",
    "driver.get(choice(hype_songs))\n",
    "#driver.get('https://www.spotify.com/us/')\n",
    "\n"
   ]
  },
  {
   "cell_type": "code",
   "execution_count": null,
   "metadata": {
    "collapsed": true
   },
   "outputs": [],
   "source": [
    "driver.get('https://www.spotify.com/us/')"
   ]
  },
  {
   "cell_type": "code",
   "execution_count": null,
   "metadata": {
    "collapsed": true
   },
   "outputs": [],
   "source": [
    "open_web_player = driver.find_element_by_xpath('//*[@id=\"seg-hp-open-player\"]')"
   ]
  },
  {
   "cell_type": "code",
   "execution_count": null,
   "metadata": {
    "collapsed": true
   },
   "outputs": [],
   "source": [
    "open_web_player.click()"
   ]
  },
  {
   "cell_type": "markdown",
   "metadata": {},
   "source": [
    "Next, search a song!"
   ]
  },
  {
   "cell_type": "code",
   "execution_count": null,
   "metadata": {
    "collapsed": true
   },
   "outputs": [],
   "source": [
    "driver.get('https://open.spotify.com/search/results/pokemon')"
   ]
  },
  {
   "cell_type": "code",
   "execution_count": null,
   "metadata": {
    "collapsed": true
   },
   "outputs": [],
   "source": [
    "song = driver.find_element_by_xpath('//*[@id=\"main\"]/div/div[4]/div[2]/div[1]/section/div[2]/div/div/div[1]/div[2]/section/section/ol/div[1]/div/li')"
   ]
  },
  {
   "cell_type": "code",
   "execution_count": null,
   "metadata": {
    "collapsed": true
   },
   "outputs": [],
   "source": [
    "song.click()"
   ]
  },
  {
   "cell_type": "code",
   "execution_count": null,
   "metadata": {
    "collapsed": true
   },
   "outputs": [],
   "source": [
    "play_button = driver.find_element_by_xpath('//*[@id=\"main\"]/div/div[5]/footer/div/div[2]/div/div[1]/button[3]')"
   ]
  },
  {
   "cell_type": "code",
   "execution_count": null,
   "metadata": {
    "collapsed": true
   },
   "outputs": [],
   "source": [
    "play_button.click()"
   ]
  },
  {
   "cell_type": "code",
   "execution_count": null,
   "metadata": {
    "collapsed": true
   },
   "outputs": [],
   "source": [
    "pokemenon_url  = 'https://open.spotify.com/track/6xG2ZGudUgtV235xvDlSEt'\n",
    "\n",
    "\n",
    "pokemon = driver.get('https://open.spotify.com/track/6xG2ZGudUgtV235xvDlSEt')"
   ]
  },
  {
   "cell_type": "code",
   "execution_count": null,
   "metadata": {
    "collapsed": true
   },
   "outputs": [],
   "source": [
    "driver.get('https://open.spotify.com/track/27LesyIHfMY8mUZt7bv4KP')"
   ]
  },
  {
   "cell_type": "code",
   "execution_count": null,
   "metadata": {
    "collapsed": true
   },
   "outputs": [],
   "source": []
  }
 ],
 "metadata": {
  "kernelspec": {
   "display_name": "Python 3",
   "language": "python",
   "name": "python3"
  },
  "language_info": {
   "codemirror_mode": {
    "name": "ipython",
    "version": 3
   },
   "file_extension": ".py",
   "mimetype": "text/x-python",
   "name": "python",
   "nbconvert_exporter": "python",
   "pygments_lexer": "ipython3",
   "version": "3.6.1"
  }
 },
 "nbformat": 4,
 "nbformat_minor": 2
}
